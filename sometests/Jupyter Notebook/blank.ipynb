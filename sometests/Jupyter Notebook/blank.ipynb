{
 "cells": [
  {
   "cell_type": "markdown",
   "metadata": {},
   "source": [
    "# <code>geo_bezier_3d</code>\n",
    "------------------------------------\n",
    "\n",
    "Um notebook em branco para o início de um projeto.\n",
    "\n",
    "### Para dúvidas maiores e/ou lista de exemplos, veja a [documentação](https://geo-bezier-3d.readthedocs.io/)."
   ]
  },
  {
   "cell_type": "code",
   "execution_count": null,
   "metadata": {},
   "outputs": [],
   "source": [
    "#lendo de outra forma: 'eixo_x'=[comprimento lx, número de nós nx, is_periodic]\n",
    "\n",
    "domain_info={'x':[lx,nx,is_periodic], \n",
    "             'y':[ly,ny,is_periodic],\n",
    "             'z':[lz,nz,is_periodic]}"
   ]
  },
  {
   "cell_type": "code",
   "execution_count": null,
   "metadata": {},
   "outputs": [],
   "source": [
    "for axis,(length,nodes,is_periodic) in domain_info.items():\n",
    "    if is_periodic==True:\n",
    "        domain_info[\"%s\"%(axis)]+=[length/(nodes)]\n",
    "    else:\n",
    "        domain_info[\"%s\"%(axis)]+=[length/(nodes-1)]"
   ]
  },
  {
   "cell_type": "code",
   "execution_count": null,
   "metadata": {},
   "outputs": [],
   "source": [
    "name=str(input('Give your project a name: '))"
   ]
  },
  {
   "cell_type": "code",
   "execution_count": null,
   "metadata": {},
   "outputs": [],
   "source": [
    "open(f'inputs.py', 'w').close()\n",
    "with open(f'inputs.py', 'a') as the_file:\n",
    "    the_file.write(f'domain_info={domain_info}\\n')\n",
    "    the_file.write('name='),the_file.write(f'\"'), the_file.write(f'{name}'), the_file.write(f'\"')"
   ]
  },
  {
   "cell_type": "code",
   "execution_count": null,
   "metadata": {},
   "outputs": [],
   "source": [
    "from infos import *\n",
    "from inputs import *\n",
    "from creating_solid import *\n",
    "import inputs as i\n",
    "import infos as s\n",
    "import creating_solid as c "
   ]
  },
  {
   "cell_type": "code",
   "execution_count": null,
   "metadata": {},
   "outputs": [],
   "source": [
    "gen_raf_information(nraf=nraf) #valor de nraf, o fator que refinará a malha em cada direção.\n",
    "\n",
    "raf=False"
   ]
  }
 ],
 "metadata": {
  "kernelspec": {
   "display_name": "Python 3",
   "language": "python",
   "name": "python3"
  },
  "language_info": {
   "codemirror_mode": {
    "name": "ipython",
    "version": 3
   },
   "file_extension": ".py",
   "mimetype": "text/x-python",
   "name": "python",
   "nbconvert_exporter": "python",
   "pygments_lexer": "ipython3",
   "version": "3.7.6"
  },
  "toc-autonumbering": false,
  "toc-showcode": false,
  "toc-showmarkdowntxt": false,
  "toc-showtags": false
 },
 "nbformat": 4,
 "nbformat_minor": 4
}
