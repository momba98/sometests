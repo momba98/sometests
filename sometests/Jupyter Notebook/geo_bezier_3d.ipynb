{
 "cells": [
  {
   "cell_type": "markdown",
   "metadata": {},
   "source": [
    "# <code>geo_bezier_3d</code>\n",
    "------------------------------------\n",
    "### Seja bem-vindo ao <code>geo_bezier_3d</code>!\n",
    "Projete sólidos para aplicação **IBM** através das **equações de Bézier**.\\\n",
    "Este notebook apresenta alguma explicação breve do que deve ser feito. \n",
    "### Para dúvidas maiores and/or lista de exemplos, veja a [documentação](https://geo-bezier-3d.readthedocs.io/)."
   ]
  },
  {
   "cell_type": "markdown",
   "metadata": {},
   "source": [
    "## Domain\n",
    "****************\n",
    "> Como primeiro passo, descreva como será o seu domínio. *Determine o comprimento e o número de nós nas direções x, y e z (lx, ly e lz, nx, ny e nz).*  \n",
    "> O script utiiza a característica periódica, portanto o cálculo de qualquer espaçamento entre nós é feito através de $\\frac{la}{na-1}$ onde <code>a</code> pode assumir <code>x, y, z</code>.\\\n",
    "> O número de nós necessita ser inteiro. Caso qualquer operação seja necessária com esta variável, não esqueça de envolver a operação com <code>int()</code>.\\\n",
    "> Dê também um nome ao seu projeto! Uma pasta com todos os arquivos será gerada no seu atual diretório com este nome.\n",
    ">\n",
    ">**Atenção: qualquer mudança nessas características requer o restart da kernal do código.**"
   ]
  },
  {
   "cell_type": "code",
   "execution_count": 1,
   "metadata": {},
   "outputs": [],
   "source": [
    "#paste here 1.1"
   ]
  },
  {
   "cell_type": "code",
   "execution_count": 2,
   "metadata": {},
   "outputs": [],
   "source": [
    "dx,dy,dz=lx/(nx-1),ly/(ny-1),lz/(nz-1)"
   ]
  },
  {
   "cell_type": "code",
   "execution_count": 5,
   "metadata": {},
   "outputs": [
    {
     "name": "stdin",
     "output_type": "stream",
     "text": [
      "Give your projeect a name:  qw\n"
     ]
    }
   ],
   "source": [
    "name = str(input('Give your projeect a name: '))"
   ]
  },
  {
   "cell_type": "code",
   "execution_count": 6,
   "metadata": {},
   "outputs": [],
   "source": [
    "open(f'inputs.py', 'w').close()\n",
    "with open(f'inputs.py', 'a') as the_file:\n",
    "    the_file.write(f'lx={lx}\\n'), the_file.write(f'ly={ly}\\n'), the_file.write(f'lz={lz}\\n')\n",
    "    the_file.write(f'nx={nx}\\n'), the_file.write(f'ny={ny}\\n'), the_file.write(f'nz={nz}\\n')  \n",
    "    the_file.write(f'dx={dx}\\n'), the_file.write(f'dy={dy}\\n'), the_file.write(f'dz={dz}\\n')  \n",
    "    the_file.write('name='),the_file.write(f'\"'), the_file.write(f'{name}'), the_file.write(f'\"')        "
   ]
  },
  {
   "cell_type": "markdown",
   "metadata": {},
   "source": [
    "## Imports \n",
    "****************\n",
    ">Capítulo reservado para importar bibliotecas e funções. Setar também as informações do refinamento do projeto."
   ]
  },
  {
   "cell_type": "code",
   "execution_count": 22,
   "metadata": {},
   "outputs": [],
   "source": [
    "from infos import *\n",
    "from inputs import *\n",
    "from creating_solid import *\n",
    "import inputs as i\n",
    "import infos as s\n",
    "import creating_solid as c"
   ]
  },
  {
   "cell_type": "code",
   "execution_count": 23,
   "metadata": {},
   "outputs": [],
   "source": [
    "gen_raf_information(nraf=2)"
   ]
  },
  {
   "cell_type": "markdown",
   "metadata": {},
   "source": [
    "\n",
    "## Mão na Massa\n",
    "*********\n",
    ">#### Definidas todos parâmetros de entry, **determine suas superfícies e gere seu sólido!**"
   ]
  },
  {
   "cell_type": "markdown",
   "metadata": {},
   "source": [
    "### Control Points' Generation\n",
    "*********\n",
    ">1. Nessa célula, primeiro o usuário deve *preparar o terreno* e chamar a função <code>set_point_matrix(pontos_u,pontos_v)</code> com a quantidade de pontos desejada em cada direção <code>[u,v]</code>.\n",
    ">2. Depois, todos os pontos gerados deverão ser setados. Deverão seguir a seguinte ordem: <code>point_storage['P<sub>ij</sub>']=[x,y,z]</code>. Caso fique em dúvida quais pontos necessitam preenchimento de dados, rode uma célula com <code>print(point_storage)</code> (obrigatoriamente após rodar a <code>set_point_matrix(pontos_u,pontos_v)</code>).\n",
    ">3. Determinados todos os pontos, chamar <code>create_point_matrix()</code> e logo em seguida <code>bezi('identif','nome')</code>.\n",
    "*********\n",
    ">Após rodar a célula, confira as equações <code>[x(u,v), y(u,v), z(u,v)]</code> geradas pelos pontos arbritados."
   ]
  },
  {
   "cell_type": "code",
   "execution_count": 32,
   "metadata": {},
   "outputs": [],
   "source": [
    "set_point_matrix(4,3)\n",
    "point_storage['P00']=[0,0,0]\n",
    "point_storage['P01']=[0,0,2.5]\n",
    "point_storage['P02']=[0,3,5]\n",
    "point_storage['P10']=[1,0,0]\n",
    "point_storage['P11']=[1,0,2.5]\n",
    "point_storage['P12']=[1,0,5]\n",
    "point_storage['P20']=[4,2,0]\n",
    "point_storage['P21']=[4,0,2.5]\n",
    "point_storage['P22']=[4,0,5]\n",
    "point_storage['P30']=[5,1,0]\n",
    "point_storage['P31']=[5,0,2.5]\n",
    "point_storage['P32']=[5,5,5]\n",
    "create_point_matrix(True)\n",
    "gen_bezier('0','doc')"
   ]
  },
  {
   "cell_type": "code",
   "execution_count": 33,
   "metadata": {},
   "outputs": [],
   "source": [
    "%matplotlib qt"
   ]
  },
  {
   "cell_type": "markdown",
   "metadata": {},
   "source": [
    "### Visualização da Arte\n",
    "*********\n",
    "> Nesse conjunto de células, visualize informações importantes:\n",
    ">- A primeira célula mostrará todas as superfícies desejadas através da função <code>plota_superficie('identif_inicial','identif_final'+1)</code>. O usuário pode visualizar todas superfícies construídas na célula anterior ou apenas algumas, com ou sem pontos, com a opacidade desejada.\n",
    ">- A segunda célula mostrará onde a superfície é *percebida* pela Epsi de forma simplificada/reduzida através da função <code>previa_intersecçao('identif_inicial','identif_final')</code>. Caso fique confuso, você pode conferir o resultado também através do retorno da própria célula."
   ]
  },
  {
   "cell_type": "code",
   "execution_count": 38,
   "metadata": {},
   "outputs": [],
   "source": [
    "surface_plot('mayavi', '0', '25', points=True, alpha=1) #try 'mayavi' in 1st argument!"
   ]
  },
  {
   "cell_type": "code",
   "execution_count": null,
   "metadata": {},
   "outputs": [],
   "source": [
    "#paste here 1.3.3."
   ]
  },
  {
   "cell_type": "code",
   "execution_count": null,
   "metadata": {},
   "outputs": [],
   "source": [
    "%matplotlib inline"
   ]
  },
  {
   "cell_type": "markdown",
   "metadata": {},
   "source": [
    "### Conferência\n",
    "*********\n",
    ">Caso o usuário desejar conferir o processo da geração da Epsi camada por camada, utilizar a função <code>plot_epsi('direcao',integral=False)</code>."
   ]
  },
  {
   "cell_type": "code",
   "execution_count": null,
   "metadata": {},
   "outputs": [],
   "source": [
    "epsi_plot('x', grid=True, integral=False)"
   ]
  },
  {
   "cell_type": "code",
   "execution_count": null,
   "metadata": {},
   "outputs": [],
   "source": [
    "gen_output(name,out_raf_path=True)"
   ]
  }
 ],
 "metadata": {
  "kernelspec": {
   "display_name": "Python 3",
   "language": "python",
   "name": "python3"
  },
  "language_info": {
   "codemirror_mode": {
    "name": "ipython",
    "version": 3
   },
   "file_extension": ".py",
   "mimetype": "text/x-python",
   "name": "python",
   "nbconvert_exporter": "python",
   "pygments_lexer": "ipython3",
   "version": "3.7.3"
  },
  "toc-autonumbering": true,
  "toc-showcode": false,
  "toc-showmarkdowntxt": false,
  "toc-showtags": false
 },
 "nbformat": 4,
 "nbformat_minor": 4
}
