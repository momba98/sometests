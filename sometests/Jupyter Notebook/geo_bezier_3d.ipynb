{
 "cells": [
  {
   "cell_type": "markdown",
   "metadata": {},
   "source": [
    "# <code>geo_bezier_3d</code>\n",
    "------------------------------------\n",
    "### Seja bem-vindo ao <code>geo_bezier_3d</code>!\n",
    "Projete sólidos para aplicação **IBM** através das **equações de Bézier**.\\\n",
    "Este notebook apresenta alguma explicação breve do que deve ser feito. \n",
    "### Para dúvidas maiores and/or lista de exemplos, veja a [documentação](https://geo-bezier-3d.readthedocs.io/)."
   ]
  },
  {
   "cell_type": "markdown",
   "metadata": {},
   "source": [
    "## Domain\n",
    "****************\n",
    "> Como primeiro passo, descreva como será o seu domínio. *Determine o comprimento e o número de nós nas direções x, y e z (lx, ly e lz, nx, ny e nz).*  \n",
    "> O script utiiza a característica periódica, portanto o cálculo de qualquer espaçamento entre nós é feito através de $\\frac{la}{na-1}$ onde <code>a</code> pode assumir <code>x, y, z</code>.\\\n",
    "> O número de nós necessita ser inteiro. Caso qualquer operação seja necessária com esta variável, não esqueça de envolver a operação com <code>int()</code>.\\\n",
    "> Dê também um nome ao seu projeto! Uma pasta com todos os arquivos será gerada no seu atual diretório com este nome.\n",
    ">\n",
    ">**Atenção: qualquer mudança nessas características requer o restart da kernal do código.**"
   ]
  },
  {
   "cell_type": "code",
   "execution_count": 1,
   "metadata": {},
   "outputs": [],
   "source": [
    "lx,ly,lz=8,2,2\n",
    "n=45\n",
    "nx,ny,nz=lx*n,ly*n,lz*n"
   ]
  },
  {
   "cell_type": "code",
   "execution_count": 2,
   "metadata": {},
   "outputs": [],
   "source": [
    "dx,dy,dz=lx/(nx-1),ly/(ny-1),lz/(nz-1)"
   ]
  },
  {
   "cell_type": "code",
   "execution_count": 4,
   "metadata": {},
   "outputs": [
    {
     "name": "stdin",
     "output_type": "stream",
     "text": [
      "Give your projeect a name:  cyber\n"
     ]
    }
   ],
   "source": [
    "name = str(input('Give your projeect a name: '))"
   ]
  },
  {
   "cell_type": "code",
   "execution_count": 5,
   "metadata": {},
   "outputs": [],
   "source": [
    "open(f'inputs.py', 'w').close()\n",
    "with open(f'inputs.py', 'a') as the_file:\n",
    "    the_file.write(f'lx={lx}\\n'), the_file.write(f'ly={ly}\\n'), the_file.write(f'lz={lz}\\n')\n",
    "    the_file.write(f'nx={nx}\\n'), the_file.write(f'ny={ny}\\n'), the_file.write(f'nz={nz}\\n')  \n",
    "    the_file.write(f'dx={dx}\\n'), the_file.write(f'dy={dy}\\n'), the_file.write(f'dz={dz}\\n')  \n",
    "    the_file.write('name='),the_file.write(f'\"'), the_file.write(f'{name}'), the_file.write(f'\"')        "
   ]
  },
  {
   "cell_type": "markdown",
   "metadata": {},
   "source": [
    "## Imports \n",
    "****************\n",
    ">Capítulo reservado para importar bibliotecas e funções. Setar também as informações do refinamento do projeto."
   ]
  },
  {
   "cell_type": "code",
   "execution_count": 6,
   "metadata": {},
   "outputs": [],
   "source": [
    "from infos import *\n",
    "from inputs import *\n",
    "from creating_solid import *\n",
    "import inputs as i\n",
    "import infos as s\n",
    "import creating_solid as c"
   ]
  },
  {
   "cell_type": "code",
   "execution_count": 7,
   "metadata": {},
   "outputs": [],
   "source": [
    "gen_raf_information(nraf=2)"
   ]
  },
  {
   "cell_type": "markdown",
   "metadata": {},
   "source": [
    "\n",
    "## Mão na Massa\n",
    "*********\n",
    ">#### Definidas todos parâmetros de entry, **determine suas superfícies e gere seu sólido!**"
   ]
  },
  {
   "cell_type": "markdown",
   "metadata": {},
   "source": [
    "### Control Points' Generation\n",
    "*********\n",
    ">1. Nessa célula, primeiro o usuário deve *preparar o terreno* e chamar a função <code>set_point_matrix(pontos_u,pontos_v)</code> com a quantidade de pontos desejada em cada direção <code>[u,v]</code>.\n",
    ">2. Depois, todos os pontos gerados deverão ser setados. Deverão seguir a seguinte ordem: <code>point_storage['P<sub>ij</sub>']=[x,y,z]</code>. Caso fique em dúvida quais pontos necessitam preenchimento de dados, rode uma célula com <code>print(point_storage)</code> (obrigatoriamente após rodar a <code>set_point_matrix(pontos_u,pontos_v)</code>).\n",
    ">3. Determinados todos os pontos, chamar <code>create_point_matrix()</code> e logo em seguida <code>bezi('identif','nome')</code>.\n",
    "*********\n",
    ">Após rodar a célula, confira as equações <code>[x(u,v), y(u,v), z(u,v)]</code> geradas pelos pontos arbritados."
   ]
  },
  {
   "cell_type": "code",
   "execution_count": 8,
   "metadata": {},
   "outputs": [],
   "source": [
    "c.eq_storage={}\n",
    "c.list_storage = {}\n",
    "\n",
    "set_point_matrix(2,2) #from set_point_matrix to gen_bezier: creating a surface\n",
    "point_storage['P00']=[1.26,1,0.468]\n",
    "point_storage['P01']=[1.26,1,0.789]\n",
    "point_storage['P10']=[3.1,0.763,0.3]\n",
    "point_storage['P11']=[3.1,0.763,0.789]\n",
    "create_point_matrix()\n",
    "translate('x',1)\n",
    "translate('z',0.211)\n",
    "gen_bezier('0','high back')\n",
    "\n",
    "set_point_matrix(2,2)\n",
    "point_storage['P00']=[3.1,0.763,0.3]\n",
    "point_storage['P01']=[3.1,0.763,0.789]\n",
    "point_storage['P10']=[3.02,0.263,0.328]\n",
    "point_storage['P11']=[3.02,0.263,0.789]\n",
    "create_point_matrix()\n",
    "translate('x',1)\n",
    "translate('z',0.211)\n",
    "gen_bezier('1','med back')\n",
    "\n",
    "set_point_matrix(2,2)\n",
    "point_storage['P00']=[3.02,0.263,0.328]\n",
    "point_storage['P01']=[3.02,0.263,0.789]\n",
    "point_storage['P10']=[2.76,0.187,0.328]\n",
    "point_storage['P11']=[2.76,0.187,0.789]\n",
    "create_point_matrix()\n",
    "translate('x',1)\n",
    "translate('z',0.211)\n",
    "gen_bezier('2','low back')\n",
    "\n",
    "set_point_matrix(2,2)\n",
    "point_storage['P00']=[2.76,0.187,0.328]\n",
    "point_storage['P01']=[2.76,0.187,0.789]\n",
    "point_storage['P10']=[0.131,0.187,0.328]\n",
    "point_storage['P11']=[0.131,0.187,0.789]\n",
    "create_point_matrix()\n",
    "translate('x',1)\n",
    "translate('z',0.211)\n",
    "gen_bezier('3','under')\n",
    "\n",
    "set_point_matrix(2,2)\n",
    "point_storage['P00']=[1.26,1,0.468]\n",
    "point_storage['P01']=[1.26,1,0.789]\n",
    "point_storage['P10']=[0.105,0.631,0.3]\n",
    "point_storage['P11']=[0.105,0.631,0.789]\n",
    "create_point_matrix()\n",
    "translate('x',1)\n",
    "translate('z',0.211)\n",
    "gen_bezier('4','high front')\n",
    "\n",
    "set_point_matrix(2,2)\n",
    "point_storage['P00']=[0.105,0.631,0.3]\n",
    "point_storage['P01']=[0.105,0.631,0.457]\n",
    "point_storage['P10']=[0,0.578,0.457]\n",
    "point_storage['P11']=[0,0.578,0.457]\n",
    "create_point_matrix()\n",
    "translate('x',1)\n",
    "translate('z',0.211)\n",
    "gen_bezier('5','high right triang')\n",
    "\n",
    "set_point_matrix(2,2)\n",
    "point_storage['P00']=[0.105,0.631,0.457]\n",
    "point_storage['P01']=[0,0.578,0.457]\n",
    "point_storage['P10']=[0.105,0.631,0.789]\n",
    "point_storage['P11']=[0,0.578,0.789]\n",
    "create_point_matrix()\n",
    "translate('x',1)\n",
    "translate('z',0.211)\n",
    "gen_bezier('6','front square')\n",
    "\n",
    "set_point_matrix(2,2)\n",
    "point_storage['P00']=[0.131,0.187,0.328]\n",
    "point_storage['P01']=[0.131,0.187,0.434]\n",
    "point_storage['P10']=[0.065,0.263,0.434]\n",
    "point_storage['P11']=[0.065,0.263,0.434]\n",
    "create_point_matrix()\n",
    "translate('x',1)\n",
    "translate('z',0.211)\n",
    "gen_bezier('7','low right triang')\n",
    "\n",
    "set_point_matrix(2,2)\n",
    "point_storage['P00']=[0.065,0.263,0.434]\n",
    "point_storage['P01']=[0.131,0.187,0.434]\n",
    "point_storage['P10']=[0.065,0.263,0.789]\n",
    "point_storage['P11']=[0.131,0.187,0.789]\n",
    "create_point_matrix()\n",
    "translate('x',1)\n",
    "translate('z',0.211)\n",
    "gen_bezier('8','front square 2')\n",
    "\n",
    "set_point_matrix(2,2)\n",
    "point_storage['P00']=[0.105,0.631,0.3]\n",
    "point_storage['P01']=[0,0.578,0.457]\n",
    "point_storage['P10']=[0.131,0.187,0.328]\n",
    "point_storage['P11']=[0.065,0.263,0.434]\n",
    "create_point_matrix()\n",
    "translate('x',1)\n",
    "translate('z',0.211)\n",
    "gen_bezier('9','right front')\n",
    "\n",
    "set_point_matrix(2,2)\n",
    "point_storage['P00']=[0,0.578,0.457]\n",
    "point_storage['P01']=[0,0.578,0.789]\n",
    "point_storage['P10']=[0.065,0.263,0.434]\n",
    "point_storage['P11']=[0.065,0.263,0.789]\n",
    "create_point_matrix()\n",
    "translate('x',1)\n",
    "translate('z',0.211)\n",
    "gen_bezier('10','mid front')\n",
    "\n",
    "set_point_matrix(2,2)\n",
    "point_storage['P00']=[1.26,1,0.468]\n",
    "point_storage['P01']=[0.105,0.631,0.3]\n",
    "point_storage['P10']=[3.1,0.763,0.3]\n",
    "point_storage['P11']=[3.1,0.763,0.3]\n",
    "create_point_matrix()\n",
    "translate('x',1)\n",
    "translate('z',0.211)\n",
    "gen_bezier('11','high lat')\n",
    "\n",
    "set_point_matrix(2,2)\n",
    "point_storage['P00']=[0.131,0.187,0.328]\n",
    "point_storage['P01']=[0.105,0.631,0.3]\n",
    "point_storage['P10']=[3.02,0.263,0.328]\n",
    "point_storage['P11']=[3.1,0.763,0.3]\n",
    "create_point_matrix()\n",
    "translate('x',1)\n",
    "translate('z',0.211)\n",
    "gen_bezier('12','low lat')\n",
    "\n",
    "set_point_matrix(2,2)\n",
    "point_storage['P00']=[0.131,0.187,0.328]\n",
    "point_storage['P01']=[0.13,0.328]\n",
    "point_storage['P11']=[2.76,0.1,0.187,0.328]\n",
    "point_storage['P10']=[3.02,0.263187,0.328]\n",
    "create_point_matrix()\n",
    "translate('z',0.211)\n",
    "translate('x',1)\n",
    "gen_bezier('13','under lat')\n",
    "\n",
    "gen_cylinder('14','back w','xy',0.263,2.53+1,0.263,0.328+0.211,0.539+0.211)\n",
    "\n",
    "gen_cylinder('15','front w','xy',0.263,0.465+1,0.263,0.328+0.211,0.539+0.211)"
   ]
  },
  {
   "cell_type": "code",
   "execution_count": 9,
   "metadata": {},
   "outputs": [],
   "source": [
    "%matplotlib qt"
   ]
  },
  {
   "cell_type": "markdown",
   "metadata": {},
   "source": [
    "### Visualização da Arte\n",
    "*********\n",
    "> Nesse conjunto de células, visualize informações importantes:\n",
    ">- A primeira célula mostrará todas as superfícies desejadas através da função <code>plota_superficie('identif_inicial','identif_final'+1)</code>. O usuário pode visualizar todas superfícies construídas na célula anterior ou apenas algumas, com ou sem pontos, com a opacidade desejada.\n",
    ">- A segunda célula mostrará onde a superfície é *percebida* pela Epsi de forma simplificada/reduzida através da função <code>previa_intersecçao('identif_inicial','identif_final')</code>. Caso fique confuso, você pode conferir o resultado também através do retorno da própria célula."
   ]
  },
  {
   "cell_type": "code",
   "execution_count": 10,
   "metadata": {},
   "outputs": [],
   "source": [
    "surface_plot('mayavi', '0', '25', points=True, alpha=1) #try 'mayavi' in 1st argument!"
   ]
  },
  {
   "cell_type": "code",
   "execution_count": null,
   "metadata": {},
   "outputs": [],
   "source": [
    "#paste here 1.3.3."
   ]
  },
  {
   "cell_type": "code",
   "execution_count": null,
   "metadata": {},
   "outputs": [],
   "source": [
    "%matplotlib inline"
   ]
  },
  {
   "cell_type": "markdown",
   "metadata": {},
   "source": [
    "### Conferência\n",
    "*********\n",
    ">Caso o usuário desejar conferir o processo da geração da Epsi camada por camada, utilizar a função <code>plot_epsi('direcao',integral=False)</code>."
   ]
  },
  {
   "cell_type": "code",
   "execution_count": null,
   "metadata": {},
   "outputs": [],
   "source": [
    "epsi_plot('x', grid=True, integral=False)"
   ]
  },
  {
   "cell_type": "code",
   "execution_count": null,
   "metadata": {},
   "outputs": [],
   "source": [
    "gen_output(name,out_raf_path=True)"
   ]
  }
 ],
 "metadata": {
  "kernelspec": {
   "display_name": "Python 3",
   "language": "python",
   "name": "python3"
  },
  "language_info": {
   "codemirror_mode": {
    "name": "ipython",
    "version": 3
   },
   "file_extension": ".py",
   "mimetype": "text/x-python",
   "name": "python",
   "nbconvert_exporter": "python",
   "pygments_lexer": "ipython3",
   "version": "3.7.3"
  },
  "toc-autonumbering": true,
  "toc-showcode": false,
  "toc-showmarkdowntxt": false,
  "toc-showtags": false
 },
 "nbformat": 4,
 "nbformat_minor": 4
}
