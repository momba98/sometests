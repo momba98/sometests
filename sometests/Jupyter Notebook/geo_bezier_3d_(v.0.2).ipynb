{
 "cells": [
  {
   "cell_type": "markdown",
   "metadata": {},
   "source": [
    "# <code>geo_bezier_3d</code>\n",
    "------------------------------------\n",
    "### Seja bem-vindo ao <code>geo_bezier_3d</code>!\n",
    "Projete sólidos para aplicação **IBM** através das **equações de Bézier**.\\\n",
    "Este notebook apresenta alguma explicação breve do que deve ser feito. \n",
    "### Para dúvidas maiores e/ou lista de exemplos, veja a [documentação](https://geo-bezier-3d.readthedocs.io/en/latest/index.html)."
   ]
  },
  {
   "cell_type": "markdown",
   "metadata": {},
   "source": [
    "## Domínio\n",
    "****************\n",
    "> Como primeiro passo, descreva como será o seu domínio. *Determine o comprimento e o número de nós nas direções x, y e z (lx, ly e lz, nx, ny e nz).*  \n",
    "> O script utiiza a característica periódica, portanto o cálculo de qualquer espaçamento entre nós é feito através de $\\frac{la}{na-1}$ onde <code>a</code> pode assumir <code>x, y, z</code>.\\\n",
    "> O número de nós necessita ser inteiro. Caso qualquer operação seja necessária com esta variável, não esqueça de envolver a operação com <code>int()</code>.\\\n",
    "> Dê também um nome ao seu projeto! Uma pasta com todos os arquivos será gerada no seu atual diretório com este nome.\n",
    ">\n",
    ">**Atenção: qualquer mudança nessas características requer o restart da kernal do código.**"
   ]
  },
  {
   "cell_type": "code",
   "execution_count": null,
   "metadata": {},
   "outputs": [],
   "source": [
    "lx,ly,lz=10,0.25,3\n",
    "nx,ny,nz=int(10*20),int(1*4),int(3*20)"
   ]
  },
  {
   "cell_type": "code",
   "execution_count": null,
   "metadata": {},
   "outputs": [],
   "source": [
    "dx,dy,dz=lx/(nx-1),ly/(ny-1),lz/(nz-1)"
   ]
  },
  {
   "cell_type": "code",
   "execution_count": null,
   "metadata": {},
   "outputs": [],
   "source": [
    "nome = str(input('Dê um nome ao seu projeto: '))"
   ]
  },
  {
   "cell_type": "code",
   "execution_count": null,
   "metadata": {},
   "outputs": [],
   "source": [
    "open(f'inputs.py', 'w').close()\n",
    "with open(f'inputs.py', 'a') as the_file:\n",
    "    the_file.write(f'lx={lx}\\n'), the_file.write(f'ly={ly}\\n'), the_file.write(f'lz={lz}\\n')\n",
    "    the_file.write(f'nx={nx}\\n'), the_file.write(f'ny={ny}\\n'), the_file.write(f'nz={nz}\\n')  \n",
    "    the_file.write(f'dx={dx}\\n'), the_file.write(f'dy={dy}\\n'), the_file.write(f'dz={dz}\\n')  \n",
    "    the_file.write('nome='),the_file.write(f'\"'), the_file.write(f'{nome}'), the_file.write(f'\"')        "
   ]
  },
  {
   "cell_type": "markdown",
   "metadata": {},
   "source": [
    "## Instruções \n",
    "****************\n",
    ">Capítulo reservado para importar bibliotecas e funções."
   ]
  },
  {
   "cell_type": "code",
   "execution_count": null,
   "metadata": {},
   "outputs": [],
   "source": [
    "from infos import *\n",
    "from inputs import *\n",
    "from creating_solid import *\n",
    "import inputs as i\n",
    "import infos as s\n",
    "import creating_solid as c"
   ]
  },
  {
   "cell_type": "markdown",
   "metadata": {},
   "source": [
    "## Mão na Massa\n",
    "*********\n",
    ">#### Definidas todos parâmetros de entrada, **determine suas superfícies e gere seu sólido!**"
   ]
  },
  {
   "cell_type": "markdown",
   "metadata": {},
   "source": [
    "### Geração dos Pontos de Controle\n",
    "*********\n",
    ">1. Nessa célula, primeiro o usuário deve *preparar o terreno* e chamar a função <code>prepara_matriz_pontos(pontos_u,pontos_v)</code> com a quantidade de pontos desejada em cada direção <code>[u,v]</code>.\n",
    ">2. Depois, todos os pontos gerados deverão ser setados. Deverão seguir a seguinte ordem: <code>armz_pt['P<sub>ij</sub>']=[x,y,z]</code>. Caso fique em dúvida quais pontos necessitam preenchimento de dados, rode uma célula com <code>print(armz_pt)</code> (obrigatoriamente após rodar a <code>prepara_matriz_pontos(pontos_u,pontos_v)</code>).\n",
    ">3. Determinados todos os pontos, chamar <code>cria_matriz_pontos()</code> e logo em seguida <code>bezi('identif','nome')</code>.\n",
    "*********\n",
    ">Após rodar a célula, confira as equações <code>[x(u,v), y(u,v), z(u,v)]</code> geradas pelos pontos arbritados."
   ]
  },
  {
   "cell_type": "code",
   "execution_count": null,
   "metadata": {},
   "outputs": [],
   "source": [
    "prepara_matriz_pontos(2,2)\n",
    "armz_pt['P00']=[2.40,0.89,1.9]\n",
    "armz_pt['P01']=[2.40,1.5,1.9]\n",
    "armz_pt['P10']=[5.9,0.57,1.4]\n",
    "armz_pt['P11']=[5.9,1.5,1.4]\n",
    "cria_matriz_pontos()\n",
    "transladar('x',2)\n",
    "transladar('y',-1.25)\n",
    "gen_bezi('0','traseira_alta')\n",
    "\n",
    "prepara_matriz_pontos(2,2)\n",
    "armz_pt['P00']=[5.9,0.57,1.4]\n",
    "armz_pt['P01']=[5.9,1.5,1.4]\n",
    "armz_pt['P10']=[5.75,0.625,0.5]\n",
    "armz_pt['P11']=[5.75,1.5,0.5]\n",
    "cria_matriz_pontos()\n",
    "transladar('x',2)\n",
    "transladar('y',-1.25)\n",
    "gen_bezi('1','traseira_media')\n",
    "\n",
    "prepara_matriz_pontos(2,2)\n",
    "armz_pt['P00']=[5.75,0.625,0.5]\n",
    "armz_pt['P01']=[5.75,1.5,0.5]\n",
    "armz_pt['P10']=[5.25,0.625,0.34]\n",
    "armz_pt['P11']=[5.25,1.5,0.34]\n",
    "cria_matriz_pontos()\n",
    "transladar('x',2)\n",
    "transladar('y',-1.25)\n",
    "gen_bezi('2','traseira_baixa')\n",
    "\n",
    "prepara_matriz_pontos(2,2)\n",
    "armz_pt['P00']=[5.25,0.625,0.34]\n",
    "armz_pt['P01']=[5.25,1.5,0.34]\n",
    "armz_pt['P10']=[0.25,0.625,0.34]\n",
    "armz_pt['P11']=[0.25,1.5,0.34]\n",
    "cria_matriz_pontos()\n",
    "transladar('x',2)\n",
    "transladar('y',-1.25)\n",
    "gen_bezi('3','assoalho')\n",
    "\n",
    "prepara_matriz_pontos(2,2)\n",
    "armz_pt['P00']=[2.40,0.89,1.9]\n",
    "armz_pt['P01']=[2.40,1.5,1.9]\n",
    "armz_pt['P10']=[0.2,0.57,1.2]\n",
    "armz_pt['P11']=[0.2,1.5,1.2]\n",
    "cria_matriz_pontos()\n",
    "transladar('x',2)\n",
    "transladar('y',-1.25)\n",
    "gen_bezi('4','frente_alta')\n",
    "\n",
    "prepara_matriz_pontos(2,2)\n",
    "armz_pt['P00']=[0.2,0.57,1.2]\n",
    "armz_pt['P01']=[0.2,0.87,1.2]\n",
    "armz_pt['P10']=[0,0.87,1.1]\n",
    "armz_pt['P11']=[0,0.87,1.1]\n",
    "cria_matriz_pontos()\n",
    "transladar('x',2)\n",
    "transladar('y',-1.25)\n",
    "gen_bezi('5','triang_sup_dir')\n",
    "\n",
    "prepara_matriz_pontos(2,2)\n",
    "armz_pt['P00']=[0.2,0.87,1.2]\n",
    "armz_pt['P01']=[0,0.87,1.1]\n",
    "armz_pt['P10']=[0.2,1.5,1.2]\n",
    "armz_pt['P11']=[0,1.5,1.1]\n",
    "cria_matriz_pontos()\n",
    "transladar('x',2)\n",
    "transladar('y',-1.25)\n",
    "gen_bezi('6','retan_sup_meio')\n",
    "\n",
    "prepara_matriz_pontos(2,2)\n",
    "armz_pt['P00']=[0.25,0.625,0.34]\n",
    "armz_pt['P01']=[0.25,0.825,0.34]\n",
    "armz_pt['P10']=[0.125,0.825,0.5]\n",
    "armz_pt['P11']=[0.125,0.825,0.5]\n",
    "cria_matriz_pontos()\n",
    "transladar('x',2)\n",
    "transladar('y',-1.25)\n",
    "gen_bezi('7','triang_inf_dir', True)\n",
    "\n",
    "prepara_matriz_pontos(2,2)\n",
    "armz_pt['P00']=[0.125,0.825,0.5]\n",
    "armz_pt['P01']=[0.25,0.825,0.34]\n",
    "armz_pt['P10']=[0.125,1.5,0.5]\n",
    "armz_pt['P11']=[0.25,1.5,0.34]\n",
    "cria_matriz_pontos()\n",
    "transladar('x',2)\n",
    "transladar('y',-1.25)\n",
    "gen_bezi('8','retan_inf_meio')\n",
    "\n",
    "prepara_matriz_pontos(2,2)\n",
    "armz_pt['P00']=[0.2,0.57,1.2]\n",
    "armz_pt['P01']=[0,0.87,1.1]\n",
    "armz_pt['P10']=[0.25,0.625,0.34]\n",
    "armz_pt['P11']=[0.125,0.825,0.5]\n",
    "cria_matriz_pontos()\n",
    "transladar('x',2)\n",
    "transladar('y',-1.25)\n",
    "gen_bezi('9','frent_dir', True)\n",
    "\n",
    "prepara_matriz_pontos(2,2)\n",
    "armz_pt['P00']=[0,0.87,1.1]\n",
    "armz_pt['P01']=[0,1.5,1.1]\n",
    "armz_pt['P10']=[0.125,0.825,0.5]\n",
    "armz_pt['P11']=[0.125,1.5,0.5]\n",
    "cria_matriz_pontos()\n",
    "transladar('x',2)\n",
    "transladar('y',-1.25)\n",
    "gen_bezi('10','frent_meio')\n",
    "\n",
    "prepara_matriz_pontos(2,2)\n",
    "armz_pt['P00']=[2.40,0.89,1.9]\n",
    "armz_pt['P01']=[0.2,0.57,1.2]\n",
    "armz_pt['P10']=[5.9,0.57,1.4]\n",
    "armz_pt['P11']=[5.9,0.57,1.4]\n",
    "cria_matriz_pontos()\n",
    "transladar('x',2)\n",
    "transladar('y',-1.25)\n",
    "gen_bezi('11','lat_sup_dir')\n",
    "\n",
    "prepara_matriz_pontos(2,2)\n",
    "armz_pt['P00']=[0.25,0.625,0.34]\n",
    "armz_pt['P01']=[0.2,0.57,1.2]\n",
    "armz_pt['P10']=[5.75,0.625,0.5]\n",
    "armz_pt['P11']=[5.9,0.57,1.4]\n",
    "cria_matriz_pontos()\n",
    "transladar('x',2)\n",
    "transladar('y',-1.25)\n",
    "gen_bezi('12','lat_inf_dir')\n",
    "\n",
    "prepara_matriz_pontos(2,2)\n",
    "armz_pt['P00']=[0.25,0.625,0.34]\n",
    "armz_pt['P01']=[0.25,0.625,0.34]\n",
    "armz_pt['P10']=[5.75,0.625,0.5]\n",
    "armz_pt['P11']=[5.25,0.625,0.34]\n",
    "cria_matriz_pontos()\n",
    "transladar('x',2)\n",
    "transladar('y',-1.25)\n",
    "gen_bezi('13','lat_chao_dir')\n",
    "\n",
    "gen_bezi_cylinder('xz',0.5,4.81+2,0.5,0,0.25,'14')\n",
    "\n",
    "gen_bezi_cylinder('xz',0.5,0.885+2,0.5,0,0.25,'18')"
   ]
  },
  {
   "cell_type": "code",
   "execution_count": null,
   "metadata": {},
   "outputs": [],
   "source": [
    "%matplotlib qt"
   ]
  },
  {
   "cell_type": "markdown",
   "metadata": {},
   "source": [
    "### Visualização da Arte\n",
    "*********\n",
    "> Nesse conjunto de células, visualize informações importantes:\n",
    ">- A primeira célula mostrará todas as superfícies desejadas através da função <code>plota_superficie('identif_inicial','identif_final')</code>. O usuário pode criar visualizar todas superfícies construídas na célula anterior ou apenas algumas, com ou sem pontos, com a opacidade desejada.\n",
    ">- A segunda célula mostrará onde a superfície é *percebida* pela Epsi de forma simplificada/reduzida através da função <code>previa_intersecçao('identif_inicial','identif_final')</code>. Caso fique confuso, você pode conferir o resultado também através do retorno da própria célula."
   ]
  },
  {
   "cell_type": "code",
   "execution_count": null,
   "metadata": {},
   "outputs": [],
   "source": [
    "plota_superficie('0', '22', pontos=False, alpha=1) #preste atenção no intervalo, primeiros dois argumentos"
   ]
  },
  {
   "cell_type": "code",
   "execution_count": null,
   "metadata": {},
   "outputs": [],
   "source": [
    "previa_intersecçao('0', '4')"
   ]
  },
  {
   "cell_type": "markdown",
   "metadata": {},
   "source": [
    "### Geração da Epsi\n",
    "*********\n",
    ">Nessa célula, serão repassadas todas as informações criadas pelas superfícies para uma matriz que o <code>Incompact3d</code> consiga entender.\\\n",
    ">Melhores explicações são fornecidas na documentação de <code>gen_epsi()</code>. **Leitura fortemente recomendada**.\n",
    "\n",
    ">#### Explicação do output da célula\n",
    ">Após rodar a célula, o usuário verá algo parecido com:\\\n",
    "<code>#0 (16 knot², order 2): | 43%|#####       |  Elapsed Time: 0:00:02</code>\n",
    ">> O primeiro termo, #0, significa qual objeto está sendo processado;\n",
    ">\n",
    ">> O segundo termo significa qual a área transversal ao vetor saído do plano escolhido serão calculados os limites;\n",
    ">\n",
    ">> O terceiro termo explicita a maior ordem das equações sendo resolvidas."
   ]
  },
  {
   "cell_type": "code",
   "execution_count": null,
   "metadata": {},
   "outputs": [],
   "source": [
    "c.epsi_3d=np.zeros((c.nx,c.ny,c.nz),dtype=np.float32)\n",
    "\n",
    "gen_epsi_cylinder('xz','sólido','zy','18',simetria='simetria_y')\n",
    "gen_epsi_cylinder('xz','sólido','zy','14',simetria='simetria_y')\n",
    "gen_epsi('entrada+saída e/ou entrada','zy','4', simetria='simetria_y')\n",
    "gen_epsi('entrada+saída e/ou entrada','zy','5', simetria='simetria_y')\n",
    "gen_epsi('entrada+saída e/ou entrada','zy','6', simetria='simetria_y')\n",
    "gen_epsi('entrada+saída e/ou entrada','zy','7', simetria='simetria_y')\n",
    "gen_epsi('entrada+saída e/ou entrada','zy','8', simetria='simetria_y')\n",
    "gen_epsi('entrada+saída e/ou entrada','zy','9', simetria='simetria_y')\n",
    "gen_epsi('entrada+saída e/ou entrada','zy','10', simetria='simetria_y')\n",
    "gen_epsi('entrada+saída e/ou entrada','zy','15', simetria='simetria_y')\n",
    "gen_epsi('entrada+saída e/ou entrada','zy','14', simetria='simetria_y')\n",
    "gen_epsi('entrada+saída e/ou saída','zy','11', simetria='simetria_y')\n",
    "gen_epsi('entrada+saída e/ou saída','zy','12', simetria='simetria_y')\n",
    "gen_epsi('entrada+saída e/ou saída','zy','0', simetria='simetria_y')\n",
    "gen_epsi('entrada+saída e/ou saída','zy','1', simetria='simetria_y')\n",
    "gen_epsi('entrada+saída e/ou saída','zy','2', simetria='simetria_y')"
   ]
  },
  {
   "cell_type": "code",
   "execution_count": null,
   "metadata": {},
   "outputs": [],
   "source": [
    "%matplotlib inline"
   ]
  },
  {
   "cell_type": "markdown",
   "metadata": {},
   "source": [
    "### Conferência\n",
    "*********\n",
    ">Caso o usuário desejar conferir o processo da geração da Epsi camada por camada, utilizar a função <code>plot_epsi('direcao',integral=False)</code>."
   ]
  },
  {
   "cell_type": "code",
   "execution_count": null,
   "metadata": {},
   "outputs": [],
   "source": [
    "plot_epsi('y', grid=False, integral=True)\n",
    "#plot_epsi('x', integral=True)\n",
    "#plot_epsi('y', integral=True)"
   ]
  },
  {
   "cell_type": "markdown",
   "metadata": {},
   "source": [
    "### Arquivos de Output\n",
    "*********\n",
    ">São gerados 3 arquivos de saída:\n",
    ">- Epsi binária;\n",
    ">- Arquivo .xdmf; \n",
    ">- Epsi binária para FORTRAN (ainda não se sabe se é está sendo feito da forma correta);\n",
    ">\n",
    ">Não se preocupe em rodar a célula com o mesmo nome mais de uma vez, um não substituirá o outro.\n",
    "\n",
    ">**Sugestão (de alguém com pouca experiência) para uma conclusiva visualização no ParaView:**\n",
    ">- Carregue três vezes o arquivo .xdmf;\n",
    ">- **No primeiro arquivo:**\n",
    " - Altere a visualização para Volume;\n",
    " - Ative o Camera Parallel Projection;\n",
    " - Em Coloring, escale os dados do range para 0.99-1.00;\n",
    " - Em Volume Rendering, ative shades;\n",
    " - Crie um Contour e sete a isosuperfície para o valor de 1, visualizar como Points (altere o tamanho de 2 para 5);\n",
    ">- **No segundo arquivo:**\n",
    " - Altere a visualização para Points - cada point significa um nó;\n",
    ">- **No terceiro arquivo:**\n",
    " - Altere a visualização para Outline;\n"
   ]
  },
  {
   "cell_type": "code",
   "execution_count": null,
   "metadata": {},
   "outputs": [],
   "source": [
    "gen_output(nome)"
   ]
  },
  {
   "cell_type": "markdown",
   "metadata": {},
   "source": [
    "### Refinamento de Malha\n",
    "*********\n",
    ">Após visualização do arquivo no ParaView, o usuário consegue definir se a Epsi está de acordo com o desejado. Como próximo passo, será concebida a criação das Epsis Refinadas (nas direções <code>xyz</code>, uma por vez), o <code>Incompact3d</code> é necessitado desse passo.\\\n",
    ">O usuário ainda assim pode visualizar camada por camada o refinamento e também visualizar sua Epsi refinada no ParaView.\\\n",
    ">*É possível notar que com o refinamento, provavelmente a área de cálculo de convergência (knot²) aumenta, e consequentemente o tempo necessário para processamento também.*"
   ]
  },
  {
   "cell_type": "code",
   "execution_count": null,
   "metadata": {},
   "outputs": [],
   "source": [
    "gen_raf_epsi(nraf=2)"
   ]
  },
  {
   "cell_type": "markdown",
   "metadata": {},
   "source": [
    "### Conferência (novamente)\n",
    "*********\n",
    ">O usuário pode conferir as Epsis Refinadas, se quiser\\\n",
    ">Comparar com o resultado de <code>1.3.4.</code> é um exercício interessante."
   ]
  },
  {
   "cell_type": "code",
   "execution_count": null,
   "metadata": {},
   "outputs": [],
   "source": [
    "#%matplotlib qt #descomente o termo caso seja difícil enxergar o sólido devido ao alto número de nós. "
   ]
  },
  {
   "cell_type": "code",
   "execution_count": null,
   "metadata": {},
   "outputs": [],
   "source": [
    "plot_epsi('y', grid=False, integral=False, raf1='x')\n",
    "#plot_epsi('x', integral=False, raf1='y')\n",
    "#plot_epsi('z', integral=False, raf1='x')"
   ]
  }
 ],
 "metadata": {
  "kernelspec": {
   "display_name": "Python 3",
   "language": "python",
   "name": "python3"
  },
  "language_info": {
   "codemirror_mode": {
    "name": "ipython",
    "version": 3
   },
   "file_extension": ".py",
   "mimetype": "text/x-python",
   "name": "python",
   "nbconvert_exporter": "python",
   "pygments_lexer": "ipython3",
   "version": "3.7.3"
  },
  "toc-autonumbering": true,
  "toc-showcode": false,
  "toc-showmarkdowntxt": false,
  "toc-showtags": false
 },
 "nbformat": 4,
 "nbformat_minor": 4
}
