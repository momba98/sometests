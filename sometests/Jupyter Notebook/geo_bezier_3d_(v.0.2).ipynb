{
 "cells": [
  {
   "cell_type": "markdown",
   "metadata": {},
   "source": [
    "# <code>geo_bezier_3d</code>\n",
    "------------------------------------\n",
    "### Seja bem-vindo ao <code>geo_bezier_3d</code>!\n",
    "Projete sólidos para aplicação **IBM** através das **equações de Bézier**.\\\n",
    "Este notebook apresenta alguma explicação breve do que deve ser feito. \n",
    "### Para dúvidas maiores e/ou lista de exemplos, veja a [documentação](https://geo-bezier-3d.readthedocs.io/en/latest/index.html)."
   ]
  },
  {
   "cell_type": "markdown",
   "metadata": {},
   "source": [
    "## Domínio\n",
    "****************\n",
    "> Como primeiro passo, descreva como será o seu domínio. *Determine o comprimento e o número de nós nas direções x, y e z (lx, ly e lz, nx, ny e nz).*  \n",
    "> O script utiiza a característica periódica, portanto o cálculo de qualquer espaçamento entre nós é feito através de $\\frac{la}{na-1}$ onde <code>a</code> pode assumir <code>x, y, z</code>.\\\n",
    "> O número de nós necessita ser inteiro. Caso qualquer operação seja necessária com esta variável, não esqueça de envolver a operação com <code>int()</code>.\\\n",
    "> Dê também um nome ao seu projeto! Uma pasta com todos os arquivos será gerada no seu atual diretório com este nome.\n",
    ">\n",
    ">**Atenção: qualquer mudança nessas características requer o restart da kernal do código.**"
   ]
  },
  {
   "cell_type": "code",
   "execution_count": null,
   "metadata": {},
   "outputs": [],
   "source": [
    "lx,ly,lz= #cole aqui 1.1.\n",
    "nx,ny,nz="
   ]
  },
  {
   "cell_type": "code",
   "execution_count": null,
   "metadata": {},
   "outputs": [],
   "source": [
    "dx,dy,dz=lx/(nx-1),ly/(ny-1),lz/(nz-1)"
   ]
  },
  {
   "cell_type": "code",
   "execution_count": null,
   "metadata": {},
   "outputs": [],
   "source": [
    "nome = str(input('Dê um nome ao seu projeto: '))"
   ]
  },
  {
   "cell_type": "code",
   "execution_count": null,
   "metadata": {},
   "outputs": [],
   "source": [
    "open(f'inputs.py', 'w').close()\n",
    "with open(f'inputs.py', 'a') as the_file:\n",
    "    the_file.write(f'lx={lx}\\n'), the_file.write(f'ly={ly}\\n'), the_file.write(f'lz={lz}\\n')\n",
    "    the_file.write(f'nx={nx}\\n'), the_file.write(f'ny={ny}\\n'), the_file.write(f'nz={nz}\\n')  \n",
    "    the_file.write(f'dx={dx}\\n'), the_file.write(f'dy={dy}\\n'), the_file.write(f'dz={dz}\\n')  \n",
    "    the_file.write('nome='),the_file.write(f'\"'), the_file.write(f'{nome}'), the_file.write(f'\"')        "
   ]
  },
  {
   "cell_type": "markdown",
   "metadata": {},
   "source": [
    "## Instruções \n",
    "****************\n",
    ">Capítulo reservado para importar bibliotecas e funções."
   ]
  },
  {
   "cell_type": "code",
   "execution_count": null,
   "metadata": {},
   "outputs": [],
   "source": [
    "from infos import *\n",
    "from inputs import *\n",
    "from creating_solid import *\n",
    "import inputs as i\n",
    "import infos as s\n",
    "import creating_solid as c"
   ]
  },
  {
   "cell_type": "markdown",
   "metadata": {},
   "source": [
    "## Mão na Massa\n",
    "*********\n",
    ">#### Definidas todos parâmetros de entrada, **determine suas superfícies e gere seu sólido!**"
   ]
  },
  {
   "cell_type": "markdown",
   "metadata": {},
   "source": [
    "### Geração dos Pontos de Controle\n",
    "*********\n",
    ">1. Nessa célula, primeiro o usuário deve *preparar o terreno* e chamar a função <code>prepara_matriz_pontos(pontos_u,pontos_v)</code> com a quantidade de pontos desejada em cada direção <code>[u,v]</code>.\n",
    ">2. Depois, todos os pontos gerados deverão ser setados. Deverão seguir a seguinte ordem: <code>armz_pt['P<sub>ij</sub>']=[x,y,z]</code>. Caso fique em dúvida quais pontos necessitam preenchimento de dados, rode uma célula com <code>print(armz_pt)</code> (obrigatoriamente após rodar a <code>prepara_matriz_pontos(pontos_u,pontos_v)</code>).\n",
    ">3. Determinados todos os pontos, chamar <code>cria_matriz_pontos()</code> e logo em seguida <code>bezi('identif','nome')</code>.\n",
    "*********\n",
    ">Após rodar a célula, confira as equações <code>[x(u,v), y(u,v), z(u,v)]</code> geradas pelos pontos arbritados."
   ]
  },
  {
   "cell_type": "code",
   "execution_count": null,
   "metadata": {},
   "outputs": [],
   "source": [
    "#cole aqui 1.3.1."
   ]
  },
  {
   "cell_type": "code",
   "execution_count": null,
   "metadata": {},
   "outputs": [],
   "source": [
    "%matplotlib qt"
   ]
  },
  {
   "cell_type": "markdown",
   "metadata": {},
   "source": [
    "### Visualização da Arte\n",
    "*********\n",
    "> Nesse conjunto de células, visualize informações importantes:\n",
    ">- A primeira célula mostrará todas as superfícies desejadas através da função <code>plota_superficie('identif_inicial','identif_final')</code>. O usuário pode criar visualizar todas superfícies construídas na célula anterior ou apenas algumas, com ou sem pontos, com a opacidade desejada.\n",
    ">- A segunda célula mostrará onde a superfície é *percebida* pela Epsi de forma simplificada/reduzida através da função <code>previa_intersecçao('identif_inicial','identif_final')</code>. Caso fique confuso, você pode conferir o resultado também através do retorno da própria célula."
   ]
  },
  {
   "cell_type": "code",
   "execution_count": null,
   "metadata": {},
   "outputs": [],
   "source": [
    "plota_superficie('0', '5', pontos=False, alpha=1) #preste atenção no intervalo, primeiros dois argumentos"
   ]
  },
  {
   "cell_type": "code",
   "execution_count": null,
   "metadata": {},
   "outputs": [],
   "source": [
    "previa_intersecçao('0', '4')"
   ]
  },
  {
   "cell_type": "markdown",
   "metadata": {},
   "source": [
    "### Geração da Epsi\n",
    "*********\n",
    ">Nessa célula, serão repassadas todas as informações criadas pelas superfícies para uma matriz que o <code>Incompact3d</code> consiga entender.\\\n",
    ">Melhores explicações são fornecidas na documentação de <code>gen_epsi()</code>. **Leitura fortemente recomendada**.\n",
    "\n",
    ">#### Explicação do output da célula\n",
    ">Após rodar a célula, o usuário verá algo parecido com:\\\n",
    "<code>#0 (16 knot², order 2): | 43%|#####       |  Elapsed Time: 0:00:02</code>\n",
    ">> O primeiro termo, #0, significa qual objeto está sendo processado;\n",
    ">\n",
    ">> O segundo termo significa qual a área transversal ao vetor saído do plano escolhido serão calculados os limites;\n",
    ">\n",
    ">> O terceiro termo explicita a maior ordem das equações sendo resolvidas."
   ]
  },
  {
   "cell_type": "code",
   "execution_count": null,
   "metadata": {},
   "outputs": [],
   "source": [
    "#cole aqui 1.3.3."
   ]
  },
  {
   "cell_type": "code",
   "execution_count": null,
   "metadata": {},
   "outputs": [],
   "source": [
    "%matplotlib inline"
   ]
  },
  {
   "cell_type": "markdown",
   "metadata": {},
   "source": [
    "### Conferência\n",
    "*********\n",
    ">Caso o usuário desejar conferir o processo da geração da Epsi camada por camada, utilizar a função <code>plot_epsi('direcao',integral=False)</code>."
   ]
  },
  {
   "cell_type": "code",
   "execution_count": null,
   "metadata": {},
   "outputs": [],
   "source": [
    "plot_epsi('z', grid=False, integral=True)\n",
    "#plot_epsi('x', integral=True)\n",
    "#plot_epsi('y', integral=True)"
   ]
  },
  {
   "cell_type": "markdown",
   "metadata": {},
   "source": [
    "### Arquivos de Output\n",
    "*********\n",
    ">São gerados 3 arquivos de saída:\n",
    ">- Epsi binária;\n",
    ">- Arquivo .xdmf; \n",
    ">- Epsi binária para FORTRAN (ainda não se sabe se é está sendo feito da forma correta);\n",
    ">\n",
    ">Não se preocupe em rodar a célula com o mesmo nome mais de uma vez, um não substituirá o outro.\n",
    "\n",
    ">**Sugestão (de alguém com pouca experiência) para uma conclusiva visualização no ParaView:**\n",
    ">- Carregue três vezes o arquivo .xdmf;\n",
    ">- **No primeiro arquivo:**\n",
    " - Altere a visualização para Volume;\n",
    " - Ative o Camera Parallel Projection;\n",
    " - Em Coloring, escale os dados do range para 0.99-1.00;\n",
    " - Em Volume Rendering, ative shades;\n",
    " - Crie um Contour e sete a isosuperfície para o valor de 1, visualizar como Points (altere o tamanho de 2 para 5);\n",
    ">- **No segundo arquivo:**\n",
    " - Altere a visualização para Points - cada point significa um nó;\n",
    ">- **No terceiro arquivo:**\n",
    " - Altere a visualização para Outline;\n"
   ]
  },
  {
   "cell_type": "code",
   "execution_count": null,
   "metadata": {},
   "outputs": [],
   "source": [
    "gen_output(nome)"
   ]
  },
  {
   "cell_type": "markdown",
   "metadata": {},
   "source": [
    "### Refinamento de Malha\n",
    "*********\n",
    ">Após visualização do arquivo no ParaView, o usuário consegue definir se a Epsi está de acordo com o desejado. Como próximo passo, será concebida a criação das Epsis Refinadas (nas direções <code>xyz</code>, uma por vez), o <code>Incompact3d</code> é necessitado desse passo.\\\n",
    ">O usuário ainda assim pode visualizar camada por camada o refinamento e também visualizar sua Epsi refinada no ParaView.\\\n",
    ">*É possível notar que com o refinamento, provavelmente a área de cálculo de convergência (knot²) aumenta, e consequentemente o tempo necessário para processamento também.*"
   ]
  },
  {
   "cell_type": "code",
   "execution_count": null,
   "metadata": {},
   "outputs": [],
   "source": [
    "gen_raf_epsi(nraf=2)"
   ]
  },
  {
   "cell_type": "markdown",
   "metadata": {},
   "source": [
    "### Conferência (novamente)\n",
    "*********\n",
    ">O usuário pode conferir as Epsis Refinadas, se quiser\\\n",
    ">Comparar com o resultado de <code>1.3.4.</code> é um exercício interessante."
   ]
  },
  {
   "cell_type": "code",
   "execution_count": null,
   "metadata": {},
   "outputs": [],
   "source": [
    "#%matplotlib qt #descomente o termo caso seja difícil enxergar o sólido devido ao alto número de nós. "
   ]
  },
  {
   "cell_type": "code",
   "execution_count": null,
   "metadata": {},
   "outputs": [],
   "source": [
    "plot_epsi('y', grid=False, integral=False, raf1='x')\n",
    "#plot_epsi('x', integral=False, raf1='y')\n",
    "#plot_epsi('z', integral=False, raf1='x')"
   ]
  }
 ],
 "metadata": {
  "kernelspec": {
   "display_name": "Python 3",
   "language": "python",
   "name": "python3"
  },
  "language_info": {
   "codemirror_mode": {
    "name": "ipython",
    "version": 3
   },
   "file_extension": ".py",
   "mimetype": "text/x-python",
   "name": "python",
   "nbconvert_exporter": "python",
   "pygments_lexer": "ipython3",
   "version": "3.7.3"
  },
  "toc-autonumbering": true,
  "toc-showcode": false,
  "toc-showmarkdowntxt": false,
  "toc-showtags": false
 },
 "nbformat": 4,
 "nbformat_minor": 4
}
