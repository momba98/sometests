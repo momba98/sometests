{
 "cells": [
  {
   "cell_type": "markdown",
   "metadata": {},
   "source": [
    "# <code>geo_bezier_3d</code>\n",
    "------------------------------------\n",
    "## Cybertruck"
   ]
  },
  {
   "cell_type": "markdown",
   "metadata": {},
   "source": [
    "Para construção do Cybertruck serão usados cilindros e superfícies de Bézier. \n",
    "\n",
    "Todo o processo será comentado e explicado. Caso surjam dúvidas o usuário pode conferir **Docstring** e **How To** na [documentação](https://geo-bezier-3d.readthedocs.io/). \n",
    "\n",
    "<img src=\"images/cyber.jpg\" width=\"650\"/>"
   ]
  },
  {
   "cell_type": "markdown",
   "metadata": {},
   "source": [
    "### 1. Primeiros passos\n",
    "\n",
    "Bem como na documentação (How To), inicialmente o usuário deverá setar os parâmetros do domínio, dar nome ao projeto, importar bibliotecas e arquivos e setar as informações de refinamento:"
   ]
  },
  {
   "cell_type": "code",
   "execution_count": null,
   "metadata": {},
   "outputs": [],
   "source": [
    "domain_info={'x':[8,256,False], \n",
    "             'y':[2,129,False],\n",
    "             'z':[2,129,False]}"
   ]
  },
  {
   "cell_type": "code",
   "execution_count": null,
   "metadata": {},
   "outputs": [],
   "source": [
    "for axis,(length,nodes,is_periodic) in domain_info.items():\n",
    "    if is_periodic==True:\n",
    "        domain_info[\"%s\"%(axis)]+=[length/(nodes)]\n",
    "    else:\n",
    "        domain_info[\"%s\"%(axis)]+=[length/(nodes-1)]"
   ]
  },
  {
   "cell_type": "code",
   "execution_count": null,
   "metadata": {},
   "outputs": [],
   "source": [
    "name = str(input('Give your project a name: ')) #nome do projeto"
   ]
  },
  {
   "cell_type": "code",
   "execution_count": null,
   "metadata": {},
   "outputs": [],
   "source": [
    "open(f'inputs.py', 'w').close()\n",
    "with open(f'inputs.py', 'a') as the_file:\n",
    "    the_file.write(f'domain_info={domain_info}\\n')\n",
    "    the_file.write('name='),the_file.write(f'\"'), the_file.write(f'{name}'), the_file.write(f'\"')"
   ]
  },
  {
   "cell_type": "code",
   "execution_count": null,
   "metadata": {},
   "outputs": [],
   "source": [
    "#importação de bibliotecas e arquivos auxiliares do código\n",
    "\n",
    "from infos import *\n",
    "from inputs import *\n",
    "from creating_solid import *\n",
    "import inputs as i\n",
    "import infos as s\n",
    "import creating_solid as c"
   ]
  },
  {
   "cell_type": "code",
   "execution_count": null,
   "metadata": {},
   "outputs": [],
   "source": [
    "gen_raf_information(nraf=3) #valor de nraf, o fator que refinará a malha em cada direção.\n",
    "\n",
    "raf=False #para construir as epsis refinadas, apenas alterar essa variável para True"
   ]
  },
  {
   "cell_type": "markdown",
   "metadata": {},
   "source": [
    "### 2. Criação dos limites\n",
    "\n",
    "Setados os parâmetros iniciais, o usuário construirá de fato o sólido.\n",
    "\n",
    "Como é avisado logo na documentação, trata-se de **várias** superfícies de Bézier para representação do carro elétrico. Inicialmente, todas superfícies foram criadas próximas da origem para facilitar a setagem dos pontos. Posteriormente, tudo foi transladado tanto na direção do comprimento quanto na direção da largura.\n",
    "\n",
    "Obviamente, trata-se também de uma aproximação. Quanto mais tempo o usuário passar criando o objeto, mais fiel o objeto será.\n",
    "\n",
    "Para facilitar as coisas, apenas metade do carro foi constrúido. A outra metade será construída com espelhamento.\n",
    "\n",
    "Todas dimensões do veículo e do domínio foram adimensionalizadas com a altura do próprio veículo. O <code>Incompact3d</code> precisa de tal adimensionalização para que todos as funcionalidades funcionem corretamente.\n",
    "\n",
    "Criando todas as superfícies da lataria:"
   ]
  },
  {
   "cell_type": "code",
   "execution_count": null,
   "metadata": {},
   "outputs": [],
   "source": [
    "#criando as incontáveis superfícies:\n",
    "\n",
    "#traseira alta\n",
    "\n",
    "set_point_matrix(num_u_points=2,num_v_points=2) \n",
    "\n",
    "point_storage['P00']=[1.26,1,0.468]\n",
    "point_storage['P01']=[1.26,1,0.789]\n",
    "point_storage['P10']=[3.1,0.763,0.3]\n",
    "point_storage['P11']=[3.1,0.763,0.789]\n",
    "\n",
    "create_point_matrix()\n",
    "\n",
    "translate(direction='x',quantity=1)\n",
    "translate(direction='z',quantity=0.211)\n",
    "\n",
    "gen_bezier_surface(identif='0',name='high back')\n",
    "\n",
    "#traseira média\n",
    "\n",
    "set_point_matrix(num_u_points=2,num_v_points=2)\n",
    "\n",
    "point_storage['P00']=[3.1,0.763,0.3]\n",
    "point_storage['P01']=[3.1,0.763,0.789]\n",
    "point_storage['P10']=[3.02,0.263,0.328]\n",
    "point_storage['P11']=[3.02,0.263,0.789]\n",
    "\n",
    "create_point_matrix()\n",
    "\n",
    "translate(direction='x',quantity=1)\n",
    "translate(direction='z',quantity=0.211)\n",
    "\n",
    "gen_bezier_surface(identif='1',name='med back')\n",
    "\n",
    "#traseira baixa\n",
    "\n",
    "set_point_matrix(num_u_points=2,num_v_points=2)\n",
    "\n",
    "point_storage['P00']=[3.02,0.263,0.328]\n",
    "point_storage['P01']=[3.02,0.263,0.789]\n",
    "point_storage['P10']=[2.76,0.187,0.328]\n",
    "point_storage['P11']=[2.76,0.187,0.789]\n",
    "\n",
    "create_point_matrix()\n",
    "\n",
    "translate(direction='x',quantity=1)\n",
    "translate(direction='z',quantity=0.211)\n",
    "\n",
    "gen_bezier_surface(identif='2',name='low back')\n",
    "\n",
    "#assoalho\n",
    "\n",
    "set_point_matrix(num_u_points=2,num_v_points=2)\n",
    "\n",
    "point_storage['P00']=[2.76,0.187,0.328]\n",
    "point_storage['P01']=[2.76,0.187,0.789]\n",
    "point_storage['P10']=[0.131,0.187,0.328]\n",
    "point_storage['P11']=[0.131,0.187,0.789]\n",
    "\n",
    "create_point_matrix()\n",
    "\n",
    "translate(direction='x',quantity=1)\n",
    "translate(direction='z',quantity=0.211)\n",
    "\n",
    "gen_bezier_surface(identif='3',name='under')\n",
    "\n",
    "#frente alta\n",
    "\n",
    "set_point_matrix(num_u_points=2,num_v_points=2)\n",
    "\n",
    "point_storage['P00']=[1.26,1,0.468]\n",
    "point_storage['P01']=[1.26,1,0.789]\n",
    "point_storage['P10']=[0.105,0.631,0.3]\n",
    "point_storage['P11']=[0.105,0.631,0.789]\n",
    "\n",
    "create_point_matrix()\n",
    "\n",
    "translate(direction='x',quantity=1)\n",
    "translate(direction='z',quantity=0.211)\n",
    "\n",
    "gen_bezier_surface(identif='4',name='high front')\n",
    "\n",
    "#triangulo lateral direito alto\n",
    "\n",
    "set_point_matrix(num_u_points=2,num_v_points=2)\n",
    "\n",
    "point_storage['P00']=[0.105,0.631,0.3]\n",
    "point_storage['P01']=[0.105,0.631,0.457]\n",
    "point_storage['P10']=[0,0.578,0.457]\n",
    "point_storage['P11']=[0,0.578,0.457]\n",
    "\n",
    "create_point_matrix()\n",
    "\n",
    "translate(direction='x',quantity=1)\n",
    "translate(direction='z',quantity=0.211)\n",
    "\n",
    "gen_bezier_surface(identif='5',name='high right triang')\n",
    "\n",
    "#quadrado frontal\n",
    "\n",
    "set_point_matrix(num_u_points=2,num_v_points=2)\n",
    "\n",
    "point_storage['P00']=[0.105,0.631,0.457]\n",
    "point_storage['P01']=[0,0.578,0.457]\n",
    "point_storage['P10']=[0.105,0.631,0.789]\n",
    "point_storage['P11']=[0,0.578,0.789]\n",
    "\n",
    "create_point_matrix()\n",
    "\n",
    "translate(direction='x',quantity=1)\n",
    "translate(direction='z',quantity=0.211)\n",
    "\n",
    "gen_bezier_surface(identif='6',name='front square')\n",
    "\n",
    "#triangulo lateral direito baixo\n",
    "\n",
    "set_point_matrix(num_u_points=2,num_v_points=2)\n",
    "\n",
    "point_storage['P00']=[0.131,0.187,0.328]\n",
    "point_storage['P01']=[0.131,0.187,0.434]\n",
    "point_storage['P10']=[0.065,0.263,0.434]\n",
    "point_storage['P11']=[0.065,0.263,0.434]\n",
    "\n",
    "create_point_matrix()\n",
    "\n",
    "translate(direction='x',quantity=1)\n",
    "translate(direction='z',quantity=0.211)\n",
    "\n",
    "gen_bezier_surface(identif='7',name='low right triang')\n",
    "\n",
    "#outro quadrado frontal \n",
    "\n",
    "set_point_matrix(num_u_points=2,num_v_points=2)\n",
    "\n",
    "point_storage['P00']=[0.065,0.263,0.434]\n",
    "point_storage['P01']=[0.131,0.187,0.434]\n",
    "point_storage['P10']=[0.065,0.263,0.789]\n",
    "point_storage['P11']=[0.131,0.187,0.789]\n",
    "\n",
    "create_point_matrix()\n",
    "\n",
    "translate(direction='x',quantity=1)\n",
    "translate(direction='z',quantity=0.211)\n",
    "\n",
    "gen_bezier_surface(identif='8',name='front square 2')\n",
    "\n",
    "#frente direita\n",
    "\n",
    "set_point_matrix(num_u_points=2,num_v_points=2)\n",
    "\n",
    "point_storage['P00']=[0.105,0.631,0.3]\n",
    "point_storage['P01']=[0,0.578,0.457]\n",
    "point_storage['P10']=[0.131,0.187,0.328]\n",
    "point_storage['P11']=[0.065,0.263,0.434]\n",
    "\n",
    "create_point_matrix()\n",
    "\n",
    "translate(direction='x',quantity=1)\n",
    "translate(direction='z',quantity=0.211)\n",
    "\n",
    "gen_bezier_surface(identif='9',name='right front')\n",
    "\n",
    "#frente mediana\n",
    "\n",
    "set_point_matrix(num_u_points=2,num_v_points=2)\n",
    "\n",
    "point_storage['P00']=[0,0.578,0.457]\n",
    "point_storage['P01']=[0,0.578,0.789]\n",
    "point_storage['P10']=[0.065,0.263,0.434]\n",
    "point_storage['P11']=[0.065,0.263,0.789]\n",
    "\n",
    "create_point_matrix()\n",
    "\n",
    "translate(direction='x',quantity=1)\n",
    "translate(direction='z',quantity=0.211)\n",
    "\n",
    "gen_bezier_surface(identif='10',name='mid front')\n",
    "\n",
    "#lateral alta\n",
    "\n",
    "set_point_matrix(num_u_points=2,num_v_points=2)\n",
    "\n",
    "point_storage['P00']=[1.26,1,0.468]\n",
    "point_storage['P01']=[0.105,0.631,0.3]\n",
    "point_storage['P10']=[3.1,0.763,0.3]\n",
    "point_storage['P11']=[3.1,0.763,0.3]\n",
    "\n",
    "create_point_matrix()\n",
    "\n",
    "translate(direction='x',quantity=1)\n",
    "translate(direction='z',quantity=0.211)\n",
    "\n",
    "gen_bezier_surface(identif='11',name='high lat')\n",
    "\n",
    "#lateral baixa\n",
    "\n",
    "set_point_matrix(num_u_points=2,num_v_points=2)\n",
    "\n",
    "point_storage['P00']=[0.131,0.187,0.328]\n",
    "point_storage['P01']=[0.105,0.631,0.3]\n",
    "point_storage['P10']=[3.02,0.263,0.328]\n",
    "point_storage['P11']=[3.1,0.763,0.3]\n",
    "\n",
    "create_point_matrix()\n",
    "\n",
    "translate(direction='x',quantity=1)\n",
    "translate(direction='z',quantity=0.211)\n",
    "\n",
    "gen_bezier_surface(identif='12',name='low lat')\n",
    "\n",
    "#lateral mais baixa ainda\n",
    "\n",
    "set_point_matrix(num_u_points=2,num_v_points=2)\n",
    "\n",
    "point_storage['P00']=[0.131,0.187,0.328]\n",
    "point_storage['P01']=[0.131,0.187,0.328]\n",
    "point_storage['P10']=[3.02,0.263,0.328]\n",
    "point_storage['P11']=[2.76,0.187,0.328]\n",
    "\n",
    "create_point_matrix()\n",
    "\n",
    "translate(direction='z',quantity=0.211)\n",
    "translate(direction='x',quantity=1)\n",
    "\n",
    "gen_bezier_surface(identif='13',name='under lat')"
   ]
  },
  {
   "cell_type": "markdown",
   "metadata": {},
   "source": [
    "Uma vez criada a infinidade de superfícies, o ideal é visualiza-las e localizar possíveis erros:"
   ]
  },
  {
   "cell_type": "code",
   "execution_count": null,
   "metadata": {},
   "outputs": [],
   "source": [
    "%matplotlib qt"
   ]
  },
  {
   "cell_type": "code",
   "execution_count": null,
   "metadata": {},
   "outputs": [],
   "source": [
    "surface_plot(init_identif='0', final_identif='14', engine='mayavi', alpha=1)"
   ]
  },
  {
   "cell_type": "markdown",
   "metadata": {},
   "source": [
    "Tudo parece ok.\n",
    "\n",
    "Porém, o veículo ainda não possui rodas. \n",
    "\n",
    "Para criar rodas:"
   ]
  },
  {
   "cell_type": "code",
   "execution_count": null,
   "metadata": {},
   "outputs": [],
   "source": [
    "gen_cylinder(identif='14',\n",
    "             name='back w',\n",
    "             bases_plane='xy',\n",
    "             radius=0.263,\n",
    "             center_1=2.53+1,\n",
    "             center_2=0.263,\n",
    "             init_height=0.328+0.211,\n",
    "             final_height=0.539+0.211)\n",
    "\n",
    "gen_cylinder(identif='15',\n",
    "             name='front w',\n",
    "             bases_plane='xy',\n",
    "             radius=0.263,\n",
    "             center_1=0.465+1,\n",
    "             center_2=0.263,\n",
    "             init_height=0.328+0.211,\n",
    "             final_height=0.539+0.211)"
   ]
  },
  {
   "cell_type": "markdown",
   "metadata": {},
   "source": [
    "E visualizando mais uma vez:"
   ]
  },
  {
   "cell_type": "code",
   "execution_count": null,
   "metadata": {},
   "outputs": [],
   "source": [
    "surface_plot(init_identif='0', final_identif='16', engine='mayavi', alpha=1)"
   ]
  },
  {
   "cell_type": "markdown",
   "metadata": {},
   "source": [
    "Agora sim tudo está pronto para validação de tais limites na matriz $\\epsilon$.\n",
    "\n",
    "Ignore por um momento o desperdício de código quando o autor chama a mesma função várias vezes.\n",
    "\n",
    "Prestar atenção que a ordem com que tais funções são chamadas faz **total** diferença na resolução da $\\epsilon$.\n",
    "\n",
    "Se por ventura o usuário chamar primeiro todas as saídas e depois todas as entradas, nada dará certo. É um bom exercício para entender lógica do código, a propósito.\n",
    "\n",
    "Deixando a ordem com que a função é chamada por enquanto, prestar atenção que todas as superfícies são setadas como limites (entrada ou saída) em relação a um plano específico: **zy**. \n",
    "\n",
    "Partindo do plano de origem, **zy**, todos os índices que estão \"depois\" de uma superfície setada como entrada serão setados como 1 até o fim do domínio. \n",
    "\n",
    "A mesma lógica se aplica para uma superfície setada como saída, porém ao invés de ser setado 1, será setado 0.\n",
    "\n",
    "Enfim, resolvendo tais limites:"
   ]
  },
  {
   "cell_type": "code",
   "execution_count": null,
   "metadata": {},
   "outputs": [],
   "source": [
    "gen_epsi_bezier_surface(surface_type='entry+exit and/or entry',plane='zy',identif='4' ,bez_raf_path=raf)\n",
    "gen_epsi_bezier_surface(surface_type='entry+exit and/or entry',plane='zy',identif='5' ,bez_raf_path=raf)\n",
    "gen_epsi_bezier_surface(surface_type='entry+exit and/or entry',plane='zy',identif='6' ,bez_raf_path=raf)\n",
    "gen_epsi_bezier_surface(surface_type='entry+exit and/or entry',plane='zy',identif='7' ,bez_raf_path=raf)\n",
    "gen_epsi_bezier_surface(surface_type='entry+exit and/or entry',plane='zy',identif='8' ,bez_raf_path=raf)\n",
    "gen_epsi_bezier_surface(surface_type='entry+exit and/or entry',plane='zy',identif='9' ,bez_raf_path=raf)\n",
    "gen_epsi_bezier_surface(surface_type='entry+exit and/or entry',plane='zy',identif='10',bez_raf_path=raf)\n",
    "gen_epsi_bezier_surface(surface_type='entry+exit and/or exit' ,plane='zy',identif='11',bez_raf_path=raf)\n",
    "gen_epsi_bezier_surface(surface_type='entry+exit and/or exit' ,plane='zy',identif='12',bez_raf_path=raf)\n",
    "gen_epsi_bezier_surface(surface_type='entry+exit and/or exit' ,plane='zy',identif='0' ,bez_raf_path=raf)\n",
    "gen_epsi_bezier_surface(surface_type='entry+exit and/or exit' ,plane='zy',identif='1' ,bez_raf_path=raf)\n",
    "gen_epsi_bezier_surface(surface_type='entry+exit and/or exit' ,plane='zy',identif='2' ,bez_raf_path=raf)\n",
    "\n",
    "#o usuário não deve se preocupar com planos de resolução para com os cilindros, esses são features bem mais simples que as Béziers.\n",
    "\n",
    "gen_epsi_cylinder(identif='14',surface_type='solid',cyl_raf_path=raf)\n",
    "gen_epsi_cylinder(identif='15',surface_type='solid',cyl_raf_path=raf)"
   ]
  },
  {
   "cell_type": "markdown",
   "metadata": {},
   "source": [
    "Validadas todas as superfícies na $\\epsilon$, o projeto está quase acabado.\n",
    "\n",
    "Só falta realizar o espelhamento. \n",
    "\n",
    "Para mostrar toda a funcionalidade da função, o espelhamento será feito em relação a um sólido único, ao invés de ser feito em relação ao domínio inteiro.\n",
    "\n",
    "Para tanto, o usuário deve criar esse sólido único. Tal ação deve ser feita com a função <code>bounds_into_single_solid</code>:"
   ]
  },
  {
   "cell_type": "code",
   "execution_count": null,
   "metadata": {},
   "outputs": [],
   "source": [
    "#selecionar todas as features que fazem parte desse sólido. No caso, todas:\n",
    "\n",
    "bounds_into_single_solid(identif_list=['0','1','2','4','5','6','7','8','9','10','11','12','14','15'],\n",
    "                         identif='2', #identificação desse novo sólido\n",
    "                         solid_raf_path=raf)\n",
    "\n",
    "#uma vez criado o sólido, gerar tal espelhamento em relaçao \n",
    "\n",
    "gen_epsi_mirror(target='2',direction='z',mirror_raf_path=raf)"
   ]
  },
  {
   "cell_type": "markdown",
   "metadata": {},
   "source": [
    "Pronto. Antes de gerar os arquivos de saída, o usuário não deve esquecer que depois de utilizar a função <code>bounds_into_single_solid</code>, a outra função <code>normalize_epsi</code> deve ser chamada também (maiores informações em How To).\n",
    "\n",
    "O motivo é que tudo que está dentro dos limites das superfícies que criam esse novo sólido é setado na $\\epsilon$ com o valor da identificação dessa mesma feature.\n",
    "\n",
    "Nesse caso, tudo que é o veículo está setado como 2 na $\\epsilon$, afinal de contas 2 é a identificação que foi dada a esse sólido.\n",
    "\n",
    "Portanto:"
   ]
  },
  {
   "cell_type": "code",
   "execution_count": null,
   "metadata": {},
   "outputs": [],
   "source": [
    "normalize_epsi(epsi_raf_path=raf)\n",
    "\n",
    "gen_output(names=name,out_raf_path=raf)"
   ]
  },
  {
   "cell_type": "markdown",
   "metadata": {},
   "source": [
    "Projeto finalizado!"
   ]
  }
 ],
 "metadata": {
  "kernelspec": {
   "display_name": "Python 3",
   "language": "python",
   "name": "python3"
  },
  "language_info": {
   "codemirror_mode": {
    "name": "ipython",
    "version": 3
   },
   "file_extension": ".py",
   "mimetype": "text/x-python",
   "name": "python",
   "nbconvert_exporter": "python",
   "pygments_lexer": "ipython3",
   "version": "3.7.6"
  },
  "toc-autonumbering": false,
  "toc-showcode": false,
  "toc-showmarkdowntxt": false,
  "toc-showtags": false
 },
 "nbformat": 4,
 "nbformat_minor": 4
}
