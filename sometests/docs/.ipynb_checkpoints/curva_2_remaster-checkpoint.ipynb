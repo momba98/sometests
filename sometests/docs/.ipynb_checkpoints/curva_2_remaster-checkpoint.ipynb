{
 "cells": [
  {
   "cell_type": "code",
   "execution_count": null,
   "metadata": {},
   "outputs": [],
   "source": [
    "import matplotlib.ticker as ticker\n",
    "\n",
    "fig, ax = plt.subplots(figsize=(15,15),dpi=200)\n",
    "ax.grid(True,alpha=0.6,linestyle='--')\n",
    "hfont = {'fontname':'monospace'}\n",
    "img = plt.imread(\"curva_2.png\")\n",
    "ax.imshow(img, cmap=plt.get_cmap('gray'),vmin=0,vmax=25)\n",
    "\n",
    "ax.set_title('CURVA CARACTERÍSTICA DE UM COMPRESSOR', fontsize=30,**hfont)\n",
    "ax.set_xlabel('VAZÃO VOLUMÉTRICA ASPIRADA (m³/min)', fontsize=22.5,**hfont)\n",
    "ax.set_ylabel('HEAD POLITRÓPICO (kJ/kg)', fontsize=22.5,**hfont)\n",
    "\n",
    "ax.set_ylim(250,60)\n",
    "ax.set_xlim(0,250)\n",
    "\n",
    "ax.set_xticks(np.arange(0,151*5-2*151/4-151/4,151/4))\n",
    "ax.set_yticks(np.arange(0,145*5-145/2,145/2))\n",
    "\n",
    "ax.set_xticklabels(np.round(np.arange(0,2500,500/4,dtype=int),0), fontsize=16,**hfont, rotation=45)\n",
    "ax.set_yticklabels(np.round(np.arange(250,50,-50/2,dtype=int),0), fontsize=16,**hfont)\n",
    "\n",
    "plt.savefig('curva_3_remaster.pdf')"
   ]
  }
 ],
 "metadata": {
  "kernelspec": {
   "display_name": "Python 3",
   "language": "python",
   "name": "python3"
  },
  "language_info": {
   "codemirror_mode": {
    "name": "ipython",
    "version": 3
   },
   "file_extension": ".py",
   "mimetype": "text/x-python",
   "name": "python",
   "nbconvert_exporter": "python",
   "pygments_lexer": "ipython3",
   "version": "3.7.3"
  }
 },
 "nbformat": 4,
 "nbformat_minor": 4
}
