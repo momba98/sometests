{
 "cells": [
  {
   "cell_type": "markdown",
   "metadata": {},
   "source": [
    "# <code>geo_bezier_3d</code>\n",
    "------------------------------------\n",
    "## Ahmed Body"
   ]
  },
  {
   "cell_type": "markdown",
   "metadata": {},
   "source": [
    "Para construção do Ahmed Body serão usados cilindros, intersecções e superfícies de Bézier. \n",
    "\n",
    "Todo o processo será comentado e explicado. Caso surjam dúvidas o usuário pode conferir **Docstring** e **How To** na [documentação](https://geo-bezier-3d.readthedocs.io/). \n",
    "\n",
    "<img src=\"images/ahmed.png\" width=\"450\"/>"
   ]
  },
  {
   "cell_type": "markdown",
   "metadata": {},
   "source": [
    "### 1. Primeiros passos\n",
    "\n",
    "Bem como na documentação (How To), inicialmente o usuário deverá setar os parâmetros do domínio, dar nome ao projeto, importar bibliotecas e arquivos e setar as informações de refinamento:"
   ]
  },
  {
   "cell_type": "code",
   "execution_count": null,
   "metadata": {},
   "outputs": [],
   "source": [
    "#lendo de outra forma: 'eixo_x'=[comprimento lx, número de nós nx, is_periodic]\n",
    "\n",
    "domain_info={'x':[6,501,False], \n",
    "             'y':[2,201,False],\n",
    "             'z':[2,201,False]}"
   ]
  },
  {
   "cell_type": "code",
   "execution_count": 2,
   "metadata": {},
   "outputs": [],
   "source": [
    "for axis,(length,nodes,is_periodic) in domain_info.items():\n",
    "    if is_periodic==True:\n",
    "        domain_info[\"%s\"%(axis)]+=[length/(nodes)]\n",
    "    else:\n",
    "        domain_info[\"%s\"%(axis)]+=[length/(nodes-1)]"
   ]
  },
  {
   "cell_type": "code",
   "execution_count": 3,
   "metadata": {},
   "outputs": [
    {
     "name": "stdin",
     "output_type": "stream",
     "text": [
      "Give your project a name:  AHMED\n"
     ]
    }
   ],
   "source": [
    "name = str(input('Give your project a name: ')) #nome do projeto"
   ]
  },
  {
   "cell_type": "code",
   "execution_count": 4,
   "metadata": {},
   "outputs": [],
   "source": [
    "open(f'inputs.py', 'w').close()\n",
    "with open(f'inputs.py', 'a') as the_file:\n",
    "    the_file.write(f'domain_info={domain_info}\\n')\n",
    "    the_file.write('name='),the_file.write(f'\"'), the_file.write(f'{name}'), the_file.write(f'\"')"
   ]
  },
  {
   "cell_type": "code",
   "execution_count": 5,
   "metadata": {},
   "outputs": [],
   "source": [
    "#importação de bibliotecas e arquivos auxiliares do código\n",
    "\n",
    "from infos import *\n",
    "from inputs import *\n",
    "from creating_solid import *\n",
    "import inputs as i\n",
    "import infos as s\n",
    "import creating_solid as c"
   ]
  },
  {
   "cell_type": "code",
   "execution_count": 6,
   "metadata": {},
   "outputs": [],
   "source": [
    "gen_raf_information(nraf=3) #valor de nraf, o fator que refinará a malha em cada direção.\n",
    "\n",
    "raf=False #para construir as epsis refinadas, apenas alterar essa variável para True"
   ]
  },
  {
   "cell_type": "markdown",
   "metadata": {},
   "source": [
    "### 2. Criação dos limites\n",
    "\n",
    "Setados os parâmetros iniciais, o usuário construirá de fato o sólido:"
   ]
  },
  {
   "cell_type": "code",
   "execution_count": 7,
   "metadata": {},
   "outputs": [],
   "source": [
    "#parâmetros do Ahmed Body no domínio\n",
    "\n",
    "lenght_position=0.25*lx #a posição que o corpo ficará em relação ao comprimento\n",
    "\n",
    "ramp_angle=25 #angulação da descontinuidade final do Ahmed Body\n",
    "\n",
    "wide_centralize_term=((lz/2)-(1.15/2)) #nada para modificar aqui, esse termo apenas centraliza o corpo em relação ao domínio"
   ]
  },
  {
   "cell_type": "markdown",
   "metadata": {},
   "source": [
    "\n",
    "Por facilidade, a construção do sólido será feita apenas pela metade e no final um espelhamento será feito.\n",
    "\n",
    "Inicialmente será feita apenas a construção da parte frontal do Ahmed Body, a mais complicada (onde há arredondamentos).\n",
    "\n",
    "Para construção dessa parte, serão usados 3 cilindros:\n"
   ]
  },
  {
   "cell_type": "code",
   "execution_count": 8,
   "metadata": {},
   "outputs": [],
   "source": [
    "#limpando alguma possível bagunça nos dicionários auxiliares, boa prática\n",
    "\n",
    "c.eq_storage={}\n",
    "c.list_storage={}\n",
    "\n",
    "#inicializando os 3 cilindros\n",
    "\n",
    "gen_cylinder(identif='0', #o termo de identificação de features deve sempre começar em 0, outra boa prática\n",
    "             name='down horz',\n",
    "             bases_plane='xy',\n",
    "             radius=0.295,\n",
    "             center_1=0.295+lenght_position, #quando bases_plane equivale 'xy', center_1 está relacionado ao eixo x\n",
    "             center_2=0.443, #quando bases_plane equivale 'xy', center_2 está relacionado ao eixo y\n",
    "             init_height=0.00+wide_centralize_term, \n",
    "             final_height=0.575+wide_centralize_term)\n",
    "\n",
    "gen_cylinder(identif='1',\n",
    "             name='up horz',\n",
    "             bases_plane='xy',\n",
    "             radius=0.295,\n",
    "             center_1=0.295+lenght_position,\n",
    "             center_2=0.704,\n",
    "             init_height=0.00+wide_centralize_term,\n",
    "             final_height=0.575+wide_centralize_term)\n",
    "\n",
    "gen_cylinder(identif='2',\n",
    "             name='right vert',\n",
    "             bases_plane='xz',\n",
    "             radius=0.295,\n",
    "             center_1=0.295+lenght_position,\n",
    "             center_2=0.295+wide_centralize_term,\n",
    "             init_height=0.148,\n",
    "             final_height=1.00)"
   ]
  },
  {
   "cell_type": "markdown",
   "metadata": {},
   "source": [
    "Para visualizar e checar se as superfícies estão como desejadas:"
   ]
  },
  {
   "cell_type": "code",
   "execution_count": 9,
   "metadata": {},
   "outputs": [],
   "source": [
    "%matplotlib qt"
   ]
  },
  {
   "cell_type": "code",
   "execution_count": 10,
   "metadata": {},
   "outputs": [],
   "source": [
    "#surface_plot(init_identif='3',final_identif='6',engine='matplotlib',alpha=0.5)"
   ]
  },
  {
   "cell_type": "markdown",
   "metadata": {},
   "source": [
    "Aparentemente tudo está ok, embora um pouco confuso.\n",
    "\n",
    "Depois da criação e da checagem das superfícies, vamos validá-las na matriz $\\epsilon$.\n",
    "\n",
    "Como desenvolvido na documentação (How To), para obter a intersecção entre superfícies o usuário deve setar o argumento <code>add_or_sub='add'<\\code>.\n"
   ]
  },
  {
   "cell_type": "code",
   "execution_count": 11,
   "metadata": {},
   "outputs": [
    {
     "name": "stderr",
     "output_type": "stream",
     "text": [
      "#0: |100%|#############################################|  Elapsed Time: 0:00:00\n",
      "#2: |100%|#############################################|  Elapsed Time: 0:00:00\n"
     ]
    }
   ],
   "source": [
    "#validação do cilindro horizontal inferior e do único cilindro vertical na epsi\n",
    "\n",
    "gen_epsi_cylinder('0', 'solid', add_or_sub='add', cyl_raf_path=raf)\n",
    "gen_epsi_cylinder('2', 'solid', add_or_sub='add', cyl_raf_path=raf)"
   ]
  },
  {
   "cell_type": "markdown",
   "metadata": {},
   "source": [
    "Para efeitos de estudo a visualização da $\\epsilon$ inacabada é uma boa ídeia.\n",
    "\n",
    "O usuário deve rodar a próxima célula, sair do Jupyter, entrar no Paraview e visualizar o arquivo .xdmf com a opção XDMF Reader."
   ]
  },
  {
   "cell_type": "code",
   "execution_count": 12,
   "metadata": {},
   "outputs": [],
   "source": [
    "#gen_output(names=name,out_raf_path=raf)"
   ]
  },
  {
   "cell_type": "markdown",
   "metadata": {},
   "source": [
    "O usuário consegue perceber duas cores diferentes na representação da $\\epsilon$. \n",
    "\n",
    "Acontece que a cor mais viva é justamente a desejada, onde os dois cilindros se encontram.\n",
    "\n",
    "Para excluir tudo o que não é a cor viva (na $\\epsilon$, a cor viva representa 2), devemos rodar a função <code>normalize_epsi</code> e então gerar os arquivos de saída novamente."
   ]
  },
  {
   "cell_type": "code",
   "execution_count": 13,
   "metadata": {},
   "outputs": [],
   "source": [
    "normalize_epsi(intersection=True,target=2,epsi_raf_path=raf) #adquirindo apenas a intersecção\n",
    "\n",
    "#gen_output(names=name,out_raf_path=raf) #gerando novamente os arquivos de saída"
   ]
  },
  {
   "cell_type": "markdown",
   "metadata": {},
   "source": [
    "Novamente, pede-se para que o usuário vá ao ParaView e abra a geração 2 do arquivo .xdmf.\n",
    "\n",
    "Para corrigir a cor, o usuário deve ir no menu **Proprieties (esquerda inferior) -> Coloring -> Rescale to data...**\n",
    "\n",
    "<img src=\"images/paraview_rescale.png\" width=\"300\"/>"
   ]
  },
  {
   "cell_type": "markdown",
   "metadata": {},
   "source": [
    "Agora sim a representação do que é desejado está correta.\n",
    "\n",
    "Repetindo esse mesmo processo para a parte superior:"
   ]
  },
  {
   "cell_type": "code",
   "execution_count": 14,
   "metadata": {},
   "outputs": [
    {
     "name": "stderr",
     "output_type": "stream",
     "text": [
      "#1: |100%|#############################################|  Elapsed Time: 0:00:00\n",
      "#2: |100%|#############################################|  Elapsed Time: 0:00:00\n"
     ]
    }
   ],
   "source": [
    "#validação do cilindro horizontal inferior e do único cilindro vertical na epsi\n",
    "\n",
    "gen_epsi_cylinder(identif='1', surface_type='solid', add_or_sub='add', cyl_raf_path=raf)\n",
    "gen_epsi_cylinder(identif='2', surface_type='solid', add_or_sub='add', cyl_raf_path=raf)\n",
    "\n",
    "normalize_epsi(intersection=True,target=2,epsi_raf_path=raf)\n",
    "\n",
    "#gen_output(names=name,out_raf_path=raf) #gerando novamente os arquivos de saída"
   ]
  },
  {
   "cell_type": "markdown",
   "metadata": {},
   "source": [
    "Visualizando no ParaView pela 3ª vez, é possível enxergar que já se tem bom caminho andado."
   ]
  },
  {
   "cell_type": "markdown",
   "metadata": {},
   "source": [
    "Para finalizar a parte frontal, serão criados mais 3 cilindros para preencher os vazios.\n",
    "\n",
    "Notar que dessa vez não queremos intersecções e portanto não alteraremos o argumento <code>add_or_sub</code> na hora de validar os limites na matriz! O valor default, <code>'sub'</code> já é o desejado: onde não for sólido será setado, e onde já é não sofrerá qualquer modificação. Também não precisará chamar a função de normalização da $\\epsilon$, <code>normalize_epsi</code>."
   ]
  },
  {
   "cell_type": "code",
   "execution_count": 15,
   "metadata": {},
   "outputs": [],
   "source": [
    "#mais 3 cilindros\n",
    "\n",
    "gen_cylinder(identif='3',\n",
    "             name='down hor',\n",
    "             bases_plane='xy',\n",
    "             radius=0.295,\n",
    "             center_1=0.295+lenght_position,\n",
    "             center_2=0.443,\n",
    "             init_height=0.295+wide_centralize_term, \n",
    "             final_height=0.575+wide_centralize_term)\n",
    "\n",
    "gen_cylinder(identif='4',\n",
    "             name='up hor',\n",
    "             bases_plane='xy',\n",
    "             radius=0.295,\n",
    "             center_1=0.295+lenght_position,\n",
    "             center_2=0.704,\n",
    "             init_height=0.295+wide_centralize_term,\n",
    "             final_height=0.575+wide_centralize_term)\n",
    "\n",
    "gen_cylinder(identif='5',\n",
    "             name='right vert',\n",
    "             bases_plane='xz',\n",
    "             radius=0.295,\n",
    "             center_1=0.295+lenght_position,\n",
    "             center_2=0.295+wide_centralize_term,\n",
    "             init_height=0.443,\n",
    "             final_height=0.704)"
   ]
  },
  {
   "cell_type": "code",
   "execution_count": 16,
   "metadata": {},
   "outputs": [
    {
     "name": "stderr",
     "output_type": "stream",
     "text": [
      "#3: |100%|#############################################|  Elapsed Time: 0:00:00\n",
      "#4: |100%|#############################################|  Elapsed Time: 0:00:00\n",
      "#5: |100%|#############################################|  Elapsed Time: 0:00:00\n"
     ]
    }
   ],
   "source": [
    "#validando esses cilindros na epsi\n",
    "\n",
    "gen_epsi_cylinder(identif='3', surface_type='solid', cyl_raf_path=raf) #sem add_or_sub desta vez\n",
    "gen_epsi_cylinder(identif='4', surface_type='solid', cyl_raf_path=raf)\n",
    "gen_epsi_cylinder(identif='5', surface_type='solid', cyl_raf_path=raf)\n",
    "\n",
    "#gerando pela 4ª vez os arquivos de saída\n",
    "\n",
    "#gen_output(names=name,out_raf_path=raf)"
   ]
  },
  {
   "cell_type": "markdown",
   "metadata": {},
   "source": [
    "Ótimo, já temos uma geometria bem interessante, visualizando no ParaView. \n",
    "\n",
    "Falta preencher o buraco que sobrou no meio. \n",
    "\n",
    "Isso será feito com um prisma quadrático:"
   ]
  },
  {
   "cell_type": "code",
   "execution_count": 17,
   "metadata": {},
   "outputs": [
    {
     "name": "stderr",
     "output_type": "stream",
     "text": [
      "#7: |100%|#############################################|  Elapsed Time: 0:00:00\n"
     ]
    }
   ],
   "source": [
    "#criando o preenchimento do buraco do meio com um prisma quadrático\n",
    "\n",
    "gen_quad_prism(identif='7',\n",
    "               name='filler',\n",
    "               a=0.295*2,\n",
    "               b=0.704-0.443,\n",
    "               c=0.575-0.295,\n",
    "               reference_point=[lenght_position,0.443,0.295+wide_centralize_term])\n",
    "\n",
    "gen_epsi_quad_prism(identif='7',surface_type='solid',qp_raf_path=raf)\n",
    "\n",
    "#gerando pela 5ª vez (!) os arquivos de saída (isso não é nem um pouco natural, só está sendo feito por conta da explicação.)\n",
    "\n",
    "#gen_output(names=name,out_raf_path=raf)"
   ]
  },
  {
   "cell_type": "markdown",
   "metadata": {},
   "source": [
    "Tudo correu bem. Visualizando no ParaView o arquivo da 5ª geração, temos exatamente metade da parte frontal do Ahmed Body.\n",
    "\n",
    "A parte mais difícil já foi. \n",
    "\n",
    "Agora, será resolvida a parte do corpo do Ahmed Body.\n",
    "\n",
    "Para tanto, será criado um grande prisma que depois será \"recortado\" pela superfície de Bézier que representará o ângulo da traseira:"
   ]
  },
  {
   "cell_type": "code",
   "execution_count": 18,
   "metadata": {},
   "outputs": [
    {
     "name": "stderr",
     "output_type": "stream",
     "text": [
      "#8: |100%|#############################################|  Elapsed Time: 0:00:00\n",
      "#9 (1624 knot², order 2): |100%|#######################|  Elapsed Time: 0:00:28\n"
     ]
    }
   ],
   "source": [
    "#prisma quadrático do corpo:\n",
    "\n",
    "gen_quad_prism(identif='8',\n",
    "               name='body',\n",
    "               a=3.088-0.295,\n",
    "               b=1.000-0.147,\n",
    "               c=0.575,\n",
    "               reference_point=[0.295+lenght_position,0.147,wide_centralize_term])\n",
    "\n",
    "gen_epsi_quad_prism(identif='8',surface_type='solid',qp_raf_path=raf)\n",
    "\n",
    "#setando os cálculos com as variáveis para representar o ângulo solicitado no início do projeto:\n",
    "\n",
    "hipo=0.656 \n",
    "\n",
    "adj=math.cos(math.radians(ramp_angle))*hipo\n",
    "opo=math.sin(math.radians(ramp_angle))*hipo\n",
    "\n",
    "#criando a superfície de Bézier que representará a rampa traseira:\n",
    "\n",
    "set_point_matrix(num_u_points=2,num_v_points=2)\n",
    "\n",
    "point_storage['P00']=[(3.088-adj),1.00,0.000]\n",
    "point_storage['P01']=[(3.088-adj),1.00,0.575]\n",
    "\n",
    "point_storage['P10']=[3.088,1.00-opo,0.000]\n",
    "point_storage['P11']=[3.088,1.00-opo,0.575]\n",
    "\n",
    "create_point_matrix()\n",
    "\n",
    "translate(direction='x',quantity=lenght_position) \n",
    "translate(direction='z',quantity=wide_centralize_term)\n",
    "\n",
    "gen_bezier_surface(identif='9',name='ramp back')\n",
    "\n",
    "#validando a superfície como uma saída na epsi, ou seja: \n",
    "#a partir dessa superfície (partindo da origem do plano 'zy') não existe mais sólido\n",
    "\n",
    "gen_epsi_bezier_surface(surface_type='entry+exit and/or exit',\n",
    "                        plane='zy',\n",
    "                        identif='9', \n",
    "                        bez_raf_path=raf)\n",
    "\n",
    "#gerando pela 6ª vez os arquivos de saída:\n",
    "\n",
    "#gen_output(names=name,out_raf_path=raf)"
   ]
  },
  {
   "cell_type": "markdown",
   "metadata": {},
   "source": [
    "Quase lá. \n",
    "\n",
    "Visualizando no ParaView, a única coisa que falta são as \"rodas\", que no Ahmed Body são representadas como pequenos cilindros:"
   ]
  },
  {
   "cell_type": "code",
   "execution_count": 19,
   "metadata": {},
   "outputs": [
    {
     "name": "stderr",
     "output_type": "stream",
     "text": [
      "#10: |100%|############################################|  Elapsed Time: 0:00:00\n",
      "#11: |100%|############################################|  Elapsed Time: 0:00:00\n"
     ]
    }
   ],
   "source": [
    "#criando as 2 'rodas':\n",
    "\n",
    "gen_cylinder(identif='10',\n",
    "             name='right f wheel',\n",
    "             bases_plane='xz',\n",
    "             radius=0.082/2,\n",
    "             center_1=0.591+lenght_position,\n",
    "             center_2=0.137+wide_centralize_term,\n",
    "             init_height=0.00, \n",
    "             final_height=0.147)\n",
    "\n",
    "gen_cylinder(identif='11',\n",
    "             name='right b wheel',\n",
    "             bases_plane='xz',\n",
    "             radius=0.082/2,\n",
    "             center_1=2.145+lenght_position,\n",
    "             center_2=0.137+wide_centralize_term,\n",
    "             init_height=0.00,\n",
    "             final_height=0.147)\n",
    "\n",
    "#validando isso na epsi:\n",
    "\n",
    "gen_epsi_cylinder(identif='10', surface_type='solid', cyl_raf_path=raf)\n",
    "gen_epsi_cylinder(identif='11', surface_type='solid', cyl_raf_path=raf)\n",
    "\n",
    "#quase que pela última vez, gerando os arquivos de saída:\n",
    "\n",
    "#gen_output(names=name,out_raf_path=raf)"
   ]
  },
  {
   "cell_type": "markdown",
   "metadata": {},
   "source": [
    "A única coisa que falta é espelhar o domínio inteiro!"
   ]
  },
  {
   "cell_type": "code",
   "execution_count": 20,
   "metadata": {},
   "outputs": [],
   "source": [
    "#espelhando o domínio inteiro na direção de z:\n",
    "\n",
    "gen_epsi_mirror(target='whole_domain',direction='z', mirror_raf_path=raf)\n",
    "\n",
    "#finalmente gerando os últimos arquivos de saída:\n",
    "\n",
    "gen_output(name,out_raf_path=raf)"
   ]
  },
  {
   "cell_type": "markdown",
   "metadata": {},
   "source": [
    "Se o usuário seguiu exatamente o Notebook como ele foi criado, deve obter algo do tipo:\n",
    "    \n",
    "<img src=\"images/ahmed_epsi.png\" width=\"800\"/>\n",
    "\n",
    "E o processo está finalizado! Lembre-se: o <code>Incompact3d</code> solicita as $\\epsilon$ refinadas. Caso o usuário for utilizar o Ahmed Body criado para uma simulação neste solver, terá que setar o parâmetro raf (criado lá no começo, um pouco antes do início da seção 2) como <code>True</code>."
   ]
  }
 ],
 "metadata": {
  "kernelspec": {
   "display_name": "Python 3",
   "language": "python",
   "name": "python3"
  },
  "language_info": {
   "codemirror_mode": {
    "name": "ipython",
    "version": 3
   },
   "file_extension": ".py",
   "mimetype": "text/x-python",
   "name": "python",
   "nbconvert_exporter": "python",
   "pygments_lexer": "ipython3",
   "version": "3.8.5"
  },
  "toc-autonumbering": false,
  "toc-showcode": false,
  "toc-showmarkdowntxt": false,
  "toc-showtags": false
 },
 "nbformat": 4,
 "nbformat_minor": 4
}
