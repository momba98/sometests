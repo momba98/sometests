{
 "cells": [
  {
   "cell_type": "markdown",
   "metadata": {},
   "source": [
    "# <code>geo_bezier_3d</code>\n",
    "------------------------------------\n",
    "## Nozzle"
   ]
  },
  {
   "cell_type": "markdown",
   "metadata": {},
   "source": [
    "Para construção do Nozzle serão usados revolves e superfícies de Bézier. \n",
    "\n",
    "Todo o processo será comentado e explicado. Caso surjam dúvidas o usuário pode conferir **Docstring** e **How To** na [documentação](https://geo-bezier-3d.readthedocs.io/). \n",
    "\n",
    "<img src=\"images/nozzle.png\" width=\"450\"/>"
   ]
  },
  {
   "cell_type": "markdown",
   "metadata": {},
   "source": [
    "### 1. Primeiros passos\n",
    "\n",
    "Bem como na documentação (How To), inicialmente o usuário deverá setar os parâmetros do domínio, dar nome ao projeto, importar bibliotecas e arquivos e setar as informações de refinamento:"
   ]
  },
  {
   "cell_type": "code",
   "execution_count": null,
   "metadata": {},
   "outputs": [],
   "source": [
    "#lendo de outra forma: 'eixo_x'=[comprimento lx, número de nós nx, is_periodic]\n",
    "\n",
    "domain_info={'x':[10,91,False], \n",
    "             'y':[10,91,False],\n",
    "             'z':[10,91,False]}"
   ]
  },
  {
   "cell_type": "code",
   "execution_count": null,
   "metadata": {},
   "outputs": [],
   "source": [
    "for axis,(length,nodes,is_periodic) in domain_info.items():\n",
    "    if is_periodic==True:\n",
    "        domain_info[\"%s\"%(axis)]+=[length/(nodes)]\n",
    "    else:\n",
    "        domain_info[\"%s\"%(axis)]+=[length/(nodes-1)]"
   ]
  },
  {
   "cell_type": "code",
   "execution_count": null,
   "metadata": {},
   "outputs": [],
   "source": [
    "name = str(input('Give your project a name: ')) #nome do projeto"
   ]
  },
  {
   "cell_type": "code",
   "execution_count": null,
   "metadata": {},
   "outputs": [],
   "source": [
    "open(f'inputs.py', 'w').close()\n",
    "with open(f'inputs.py', 'a') as the_file:\n",
    "    the_file.write(f'domain_info={domain_info}\\n')\n",
    "    the_file.write('name='),the_file.write(f'\"'), the_file.write(f'{name}'), the_file.write(f'\"')"
   ]
  },
  {
   "cell_type": "code",
   "execution_count": null,
   "metadata": {},
   "outputs": [],
   "source": [
    "#importação de bibliotecas e arquivos auxiliares do código\n",
    "\n",
    "from infos import *\n",
    "from inputs import *\n",
    "from creating_solid import *\n",
    "import inputs as i\n",
    "import infos as s\n",
    "import creating_solid as c"
   ]
  },
  {
   "cell_type": "code",
   "execution_count": null,
   "metadata": {},
   "outputs": [],
   "source": [
    "gen_raf_information(nraf=2) #valor de nraf, o fator que refinará a malha em cada direção.\n",
    "\n",
    "raf=False #para construir as epsis refinadas, apenas alterar essa variável para True"
   ]
  },
  {
   "cell_type": "markdown",
   "metadata": {},
   "source": [
    "### 2. Criação dos limites\n",
    "\n",
    "Setados os parâmetros iniciais, o usuário construirá de fato o sólido.\n",
    "\n",
    "Obviamente, trata-se de um objeto bem complexo. Esse exemplo foi construído em um tempo não suficientemente longo para fazer com que a matriz $\\epsilon$ final seja **exatamente** igual ao objeto apresentado. Algumas simplificações foram feitas.\n",
    "\n",
    "Inicialmente, será construído um revolve:"
   ]
  },
  {
   "cell_type": "code",
   "execution_count": null,
   "metadata": {},
   "outputs": [],
   "source": [
    "%matplotlib qt"
   ]
  },
  {
   "cell_type": "code",
   "execution_count": null,
   "metadata": {},
   "outputs": [],
   "source": [
    "#limpando possível sujeira, boa prática\n",
    "\n",
    "c.eq_storage={}\n",
    "c.list_storage={}\n",
    "\n",
    "#setando os dicionários essenciais para o revolve:\n",
    "\n",
    "c.superior_revolve_info={'0':[[[0.000,4.125],[0.750,4.125]]], #cada linha é segmento de reta distinto, com 2 pontos cada\n",
    "                         '1':[[[0.750,4.125],[5.048,1.935]]],\n",
    "                         '2':[[[5.048,1.935],[7.122,1.750]]],\n",
    "                         '3':[[[7.122,1.727],[7.238,1.727]]],\n",
    "                         '4':[[[7.238,1.727],[7.858,1.607]]],\n",
    "                         '5':[[[7.858,1.607],[8.122,1.453]]], \n",
    "                         '6':[[[8.122,1.453],[9.774,0.958]]]\n",
    "                         }\n",
    "\n",
    "c.inferior_revolve_info={'0':[[[0.000,3.000],[2.292,3.000]]],\n",
    "                         '1':[[[2.292,3.000],[2.600,2.902]]], \n",
    "                         '2':[[[2.600,2.902],[4.534,1.916]]],\n",
    "                         '3':[[[4.534,1.916],[5.633,1.501],[6.732,1.286]]], # exceto por essa linha, que tem 3 pontos (é uma curva)\n",
    "                         '4':[[[6.732,1.286],[9.774,0.858]]]\n",
    "                        }\n",
    "\n",
    "#uma vez setados os dicionários, setando de fato a feature:\n",
    "\n",
    "gen_revolve_profile(identif='0',\n",
    "                    name='revolve_cru',\n",
    "                    direction='z',\n",
    "                    center_1=5.0,\n",
    "                    center_2=5.0,\n",
    "                    init_height=0.0,\n",
    "                    rev_raf_path=raf,\n",
    "                    deflection=True)\n",
    "\n",
    "#com o deflection ligado a deflexão é realizada, fazendo com que a curva de Bézier passe pelo ponto intermediário"
   ]
  },
  {
   "cell_type": "markdown",
   "metadata": {},
   "source": [
    "Por boa prática também, o usuário deve conferir se para cada linha vermelha pontilhada há uma linha cinza contínua **dentro** do perfil que sofrerá revolução. Em alguns casos a função pode falhar, apresenta instabilidade em alguns casos."
   ]
  },
  {
   "cell_type": "markdown",
   "metadata": {},
   "source": [
    "Uma vez criado o revolve, deve-se criar as superfícies de Bézier que fatiarão a parte final do Nozzle, criando o efeito de \"garra\".\n",
    "\n",
    "O processo consiste em determinar apenas os pontos de duas superfície e rotacioná-las, bem como em um **Pattern**:"
   ]
  },
  {
   "cell_type": "code",
   "execution_count": null,
   "metadata": {},
   "outputs": [],
   "source": [
    "#para deixar que o próprio loop identifique as superfícies para o usuário, setar identif=1 e a cada superfície somar 1\n",
    "\n",
    "identif=1\n",
    "\n",
    "#para cada um dos loops criar duas superfícies:\n",
    "\n",
    "for angle,nome in [0,'superficie_normal'], [60,'superficie_rot_60'], [120,'superficie_rot_120']:\n",
    "    \n",
    "    #uma superifice padrão\n",
    "\n",
    "    set_point_matrix(num_u_points=2,num_v_points=2) \n",
    "\n",
    "    point_storage['P00']=[ 0.660+5, 1.144+5,8.912]\n",
    "    point_storage['P01']=[-0.660+5,-1.144+5,8.912]\n",
    "    point_storage['P10']=[-0.000+5, 0.924+5,9.774]\n",
    "    point_storage['P11']=[-0.800+5,-0.462+5,9.774]\n",
    "\n",
    "    create_point_matrix()\n",
    "    \n",
    "    rotate(plane='xy',origin=[5,5],angle=angle)\n",
    "    \n",
    "    gen_bezier_surface(identif=str(identif),name=nome)\n",
    "    \n",
    "    identif+=1\n",
    "    \n",
    "    #outra superifice padrão\n",
    "\n",
    "    set_point_matrix(num_u_points=2,num_v_points=2) #from set_point_matrix to gen_bezier: creating a surface\n",
    "\n",
    "    point_storage['P00']=[ 0.660+5, 1.144+5,8.912]\n",
    "    point_storage['P01']=[-0.660+5,-1.144+5,8.912]\n",
    "    point_storage['P10']=[ 0.800+5, 0.462+5,9.774]\n",
    "    point_storage['P11']=[-0.000+5,-0.924+5,9.774]\n",
    "\n",
    "    create_point_matrix()\n",
    "    \n",
    "    rotate(plane='xy',origin=[5,5],angle=angle)\n",
    "    \n",
    "    gen_bezier_surface(identif=str(identif),name=nome)\n",
    "    \n",
    "    identif+=1"
   ]
  },
  {
   "cell_type": "markdown",
   "metadata": {},
   "source": [
    "Se no início do loop <code>identif</code> valia 1 e o loop é feito 3 vezes somando 2 unidades a cada loop, <code>identif</code> final é 6.\n",
    "\n",
    "Para visualizar tais superfícies criadas:"
   ]
  },
  {
   "cell_type": "code",
   "execution_count": null,
   "metadata": {},
   "outputs": [],
   "source": [
    "surface_plot(init_identif='1', final_identif='7', engine='matplotlib', points=False, alpha=1) #try 'mayavi' in 1st argument!"
   ]
  },
  {
   "cell_type": "markdown",
   "metadata": {},
   "source": [
    "Uma vez criadas todas as features que construirão o objeto desejado, é hora de validar tais limites na matriz $\\epsilon$:"
   ]
  },
  {
   "cell_type": "code",
   "execution_count": null,
   "metadata": {},
   "outputs": [],
   "source": [
    "#validando o revolve na epsi\n",
    "\n",
    "gen_epsi_revolve(identif='0')\n",
    "\n",
    "#validando as superfícies de Bézier criadas como saída, ou seja, a partir dela não existe mais sólido.\n",
    "#o referencial para tal condição é a origem de plane, logo, a origem do plano xy (onde z=0).\n",
    "\n",
    "for identif in range(1,7,1): #começa em 1, vai até 7 sem incluir 7, com passo de 1\n",
    "    \n",
    "    gen_epsi_bezier_surface(surface_type='entry+exit and/or exit',plane='xy',identif=str(identif),bez_raf_path=raf)\n"
   ]
  },
  {
   "cell_type": "markdown",
   "metadata": {},
   "source": [
    "Por fim, criar os arquivos de saída para visualização do projeto no ParaView:"
   ]
  },
  {
   "cell_type": "code",
   "execution_count": null,
   "metadata": {},
   "outputs": [],
   "source": [
    "gen_output(names=name,out_raf_path=raf)"
   ]
  },
  {
   "cell_type": "markdown",
   "metadata": {},
   "source": [
    "O usuário pode perceber que para uma superfície muito fina (como o final do revolve) a representação da $\\epsilon$ no ParaView não fica das melhores. Para resolver o problema, deve-se ou aumenta a espessura ou aumentar o número de nós da malha cartesiada tridimensional."
   ]
  }
 ],
 "metadata": {
  "kernelspec": {
   "display_name": "Python 3",
   "language": "python",
   "name": "python3"
  },
  "language_info": {
   "codemirror_mode": {
    "name": "ipython",
    "version": 3
   },
   "file_extension": ".py",
   "mimetype": "text/x-python",
   "name": "python",
   "nbconvert_exporter": "python",
   "pygments_lexer": "ipython3",
   "version": "3.7.6"
  },
  "toc-autonumbering": false,
  "toc-showcode": false,
  "toc-showmarkdowntxt": false,
  "toc-showtags": false
 },
 "nbformat": 4,
 "nbformat_minor": 4
}
