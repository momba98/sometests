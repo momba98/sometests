{
 "cells": [
  {
   "cell_type": "markdown",
   "metadata": {},
   "source": [
    "# <code>geo_bezier_3d</code>\n",
    "------------------------------------\n",
    "\n",
    "Um notebook em branco para o início de um projeto.\n",
    "\n",
    "### Para dúvidas maiores e/ou lista de exemplos, veja a [documentação](https://geo-bezier-3d.readthedocs.io/)."
   ]
  },
  {
   "cell_type": "code",
   "execution_count": 1,
   "metadata": {},
   "outputs": [],
   "source": [
    "#lendo de outra forma: 'eixo_x'=[comprimento lx, número de nós nx, is_periodic]\n",
    "\n",
    "domain_info={'x':[8,257,False], \n",
    "             'y':[2, 65,False],\n",
    "             'z':[2, 65,False]}"
   ]
  },
  {
   "cell_type": "code",
   "execution_count": 18,
   "metadata": {},
   "outputs": [
    {
     "data": {
      "text/plain": [
       "65.0"
      ]
     },
     "execution_count": 18,
     "metadata": {},
     "output_type": "execute_result"
    }
   ],
   "source": [
    "2/0.03125+1"
   ]
  },
  {
   "cell_type": "code",
   "execution_count": 2,
   "metadata": {},
   "outputs": [],
   "source": [
    "for axis,(length,nodes,is_periodic) in domain_info.items():\n",
    "    if is_periodic==True:\n",
    "        domain_info[\"%s\"%(axis)]+=[length/(nodes)]\n",
    "    else:\n",
    "        domain_info[\"%s\"%(axis)]+=[length/(nodes-1)]"
   ]
  },
  {
   "cell_type": "code",
   "execution_count": 3,
   "metadata": {},
   "outputs": [
    {
     "name": "stdin",
     "output_type": "stream",
     "text": [
      "Give your project a name:  sphere_i3d\n"
     ]
    }
   ],
   "source": [
    "name=str(input('Give your project a name: '))"
   ]
  },
  {
   "cell_type": "code",
   "execution_count": 4,
   "metadata": {},
   "outputs": [],
   "source": [
    "open(f'inputs.py', 'w').close()\n",
    "with open(f'inputs.py', 'a') as the_file:\n",
    "    the_file.write(f'domain_info={domain_info}\\n')\n",
    "    the_file.write('name='),the_file.write(f'\"'), the_file.write(f'{name}'), the_file.write(f'\"')"
   ]
  },
  {
   "cell_type": "code",
   "execution_count": 5,
   "metadata": {},
   "outputs": [],
   "source": [
    "from infos import *\n",
    "from inputs import *\n",
    "from creating_solid import *\n",
    "import inputs as i\n",
    "import infos as s\n",
    "import creating_solid as c"
   ]
  },
  {
   "cell_type": "code",
   "execution_count": 6,
   "metadata": {},
   "outputs": [],
   "source": [
    "gen_raf_information(nraf=10) #"
   ]
  },
  {
   "cell_type": "code",
   "execution_count": 9,
   "metadata": {},
   "outputs": [],
   "source": [
    "%matplotlib qt"
   ]
  },
  {
   "cell_type": "code",
   "execution_count": 7,
   "metadata": {},
   "outputs": [],
   "source": [
    "gen_sphere('0','sph',0.5,6,5,3)"
   ]
  },
  {
   "cell_type": "code",
   "execution_count": 21,
   "metadata": {},
   "outputs": [],
   "source": [
    "c.extrude_information={}\n",
    "\n",
    "c.extrude_information={'0':['entry+exit and/or entry','h',[[4,12],[4,11.5]]],\n",
    "                       '1':['entry+exit and/or exit' ,'h',[[4,11.5],[6,10],[8,11.5]]],\n",
    "                       '2':['entry+exit and/or exit' ,'h',[[8,11.5],[8,12]]] }\n",
    "\n",
    "#a identificação dentro do dicionário é independente da identificação das features!\n",
    "\n",
    "#criados os pontos e as informações sobre as curvas, cria-se de fato a feature:\n",
    "\n",
    "gen_extrude_profile(identif='0',name='calombos',\n",
    "                    direction='z',init_height=0.00,final_height=0.75)"
   ]
  },
  {
   "cell_type": "code",
   "execution_count": 14,
   "metadata": {},
   "outputs": [],
   "source": [
    "surface_plot('0','4',engine='matplotlib',)"
   ]
  },
  {
   "cell_type": "code",
   "execution_count": 8,
   "metadata": {},
   "outputs": [
    {
     "name": "stderr",
     "output_type": "stream",
     "text": [
      "#0: |100%|#############################################|  Elapsed Time: 0:00:00\n"
     ]
    }
   ],
   "source": [
    "gen_epsi_sphere('0','solid',sph_raf_path=True)\n",
    "#criando os outputs\n",
    "\n",
    "gen_output(name,True)"
   ]
  },
  {
   "cell_type": "code",
   "execution_count": null,
   "metadata": {},
   "outputs": [],
   "source": []
  }
 ],
 "metadata": {
  "kernelspec": {
   "display_name": "Python 3",
   "language": "python",
   "name": "python3"
  },
  "language_info": {
   "codemirror_mode": {
    "name": "ipython",
    "version": 3
   },
   "file_extension": ".py",
   "mimetype": "text/x-python",
   "name": "python",
   "nbconvert_exporter": "python",
   "pygments_lexer": "ipython3",
   "version": "3.7.6"
  },
  "toc-autonumbering": false,
  "toc-showcode": false,
  "toc-showmarkdowntxt": false,
  "toc-showtags": false
 },
 "nbformat": 4,
 "nbformat_minor": 4
}
